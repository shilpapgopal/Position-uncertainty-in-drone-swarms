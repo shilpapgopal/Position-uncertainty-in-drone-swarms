{
 "cells": [
  {
   "cell_type": "markdown",
   "metadata": {},
   "source": [
    "# Data generation logic for the project for various scenarios"
   ]
  },
  {
   "cell_type": "code",
   "execution_count": 2,
   "metadata": {},
   "outputs": [],
   "source": [
    "import matplotlib.pyplot as plt\n",
    "\n",
    "import numpy as np\n",
    "import pandas as pd\n",
    "from pandas import DataFrame\n",
    "import math"
   ]
  },
  {
   "cell_type": "code",
   "execution_count": 2,
   "metadata": {},
   "outputs": [],
   "source": [
    "nx, ny = (3, 5)\n",
    "x = np.linspace(-10, 10, nx)\n",
    "y = np.linspace(-10, 10, ny)\n",
    "xv, yv = np.meshgrid(x, y)"
   ]
  },
  {
   "cell_type": "code",
   "execution_count": 18,
   "metadata": {},
   "outputs": [
    {
     "data": {
      "text/plain": [
       "array([-10.,   0.,  10.])"
      ]
     },
     "execution_count": 18,
     "metadata": {},
     "output_type": "execute_result"
    }
   ],
   "source": [
    "x"
   ]
  },
  {
   "cell_type": "code",
   "execution_count": 19,
   "metadata": {},
   "outputs": [
    {
     "data": {
      "text/plain": [
       "array([[-10.,   0.,  10.],\n",
       "       [-10.,   0.,  10.],\n",
       "       [-10.,   0.,  10.],\n",
       "       [-10.,   0.,  10.],\n",
       "       [-10.,   0.,  10.]])"
      ]
     },
     "execution_count": 19,
     "metadata": {},
     "output_type": "execute_result"
    }
   ],
   "source": [
    "xv"
   ]
  },
  {
   "cell_type": "code",
   "execution_count": 20,
   "metadata": {},
   "outputs": [
    {
     "data": {
      "text/plain": [
       "array([[-10., -10., -10.],\n",
       "       [ -5.,  -5.,  -5.],\n",
       "       [  0.,   0.,   0.],\n",
       "       [  5.,   5.,   5.],\n",
       "       [ 10.,  10.,  10.]])"
      ]
     },
     "execution_count": 20,
     "metadata": {},
     "output_type": "execute_result"
    }
   ],
   "source": [
    "yv"
   ]
  },
  {
   "cell_type": "code",
   "execution_count": 25,
   "metadata": {},
   "outputs": [
    {
     "data": {
      "text/plain": [
       "[1.00776922937577,\n",
       " 1.2187738445661942,\n",
       " 1.6013437337283298,\n",
       " 1.3880331688466443,\n",
       " 1.1582779471448976]"
      ]
     },
     "execution_count": 25,
     "metadata": {},
     "output_type": "execute_result"
    }
   ],
   "source": [
    "\n",
    "ran_floats = [np.random.uniform(1,2) for _ in range(5)]\n",
    "ran_floats"
   ]
  },
  {
   "cell_type": "code",
   "execution_count": 26,
   "metadata": {},
   "outputs": [
    {
     "data": {
      "text/plain": [
       "array([[0.73352512, 0.42539463],\n",
       "       [0.04176949, 0.65455222],\n",
       "       [0.84296088, 0.29965127]])"
      ]
     },
     "execution_count": 26,
     "metadata": {},
     "output_type": "execute_result"
    }
   ],
   "source": [
    "np.random.rand(3,2)"
   ]
  },
  {
   "cell_type": "markdown",
   "metadata": {},
   "source": [
    "# Function to generate drone positions for Train set"
   ]
  },
  {
   "cell_type": "code",
   "execution_count": 3,
   "metadata": {},
   "outputs": [],
   "source": [
    "def fun_generate_drone_pos():\n",
    "    lpos = []\n",
    "    for i in range(5):\n",
    "        xy=np.random.uniform(-10,10,2)\n",
    "        x=xy[0]\n",
    "        y=xy[1]\n",
    "        z=np.random.uniform(2,7,1)[0]\n",
    "        lpos.append(x)\n",
    "        lpos.append(y)\n",
    "        lpos.append(z)\n",
    "    #print(lpos)\n",
    "    return (np.asarray(lpos).reshape(1,5, 3))\n",
    "#fun_generate_drone_pos()"
   ]
  },
  {
   "cell_type": "markdown",
   "metadata": {},
   "source": [
    "# Function to generate drone positions for Test set"
   ]
  },
  {
   "cell_type": "code",
   "execution_count": 106,
   "metadata": {},
   "outputs": [],
   "source": [
    "def fun_generate_drone_pos_test():\n",
    "    lpos = []\n",
    "    for i in range(5):\n",
    "        xy=np.random.uniform(-8.5,8.5,2)\n",
    "        x=xy[0]\n",
    "        y=xy[1]\n",
    "        z=np.random.uniform(2.5,6.5,1)[0]\n",
    "        lpos.append(x)\n",
    "        lpos.append(y)\n",
    "        lpos.append(z)\n",
    "    #print(lpos)\n",
    "    return (np.asarray(lpos).reshape(1,5, 3))\n",
    "#fun_generate_drone_pos()"
   ]
  },
  {
   "cell_type": "markdown",
   "metadata": {},
   "source": [
    "# Generate trail data - for noisy drone position"
   ]
  },
  {
   "cell_type": "code",
   "execution_count": 64,
   "metadata": {},
   "outputs": [
    {
     "name": "stdout",
     "output_type": "stream",
     "text": [
      "[9.366368681177693, -7.773105635792039, 3.5134494243738423, -6.772426125190196, 1.5305782984872067, 6.7836343443144935, -0.03687168074352698, -6.689836314159027, 5.73387507968406, 0.390125625099742, -5.586679583324987, 6.869194577077292, 4.757907858364032, -6.482598081461662, 4.897401821479175]\n",
      "[4.4569439625804605, -8.12280216450252, 6.908512942798385, -0.44014079243192405, 8.669193409662139, 5.06346214734346, -0.2526785297225924, 2.876254029252955, 2.3093354493453493, 4.4894911742969, -8.968541690895055, 2.727495461871845, -6.765380874460078, -6.536932491606608, 4.967162864467432]\n",
      "[8.412519405179559, 8.10587951118308, 3.2577538241897157, -5.251136253331183, 9.934128329527159, 5.2775647945096775, 2.877860762721385, -5.558013639663262, 5.157807536682688, -4.405035319702146, -5.374294239812841, 3.269812824868702, -3.8041814778996024, 8.946014032186426, 2.7778337684284846]\n",
      "[5.8983674412768945, -2.9770568555164267, 6.212792385951177, 6.2735060359099, -1.476656893527613, 5.74318897777352, -8.441843227107286, 7.738826410346565, 3.505071653140184, -9.005848502486408, 5.938959900680526, 5.154767806343684, 0.5502829451323663, -1.4758024363755524, 2.4690262265487983]\n"
     ]
    },
    {
     "data": {
      "text/plain": [
       "[array([[[ 9.35844973, -7.74501846,  3.53562852],\n",
       "         [-6.87242628,  1.60451907,  7.09409618],\n",
       "         [-0.12773522, -6.61817663,  5.80544481],\n",
       "         [ 0.35642259, -5.60216176,  6.86935109],\n",
       "         [ 4.79321028, -6.41649749,  4.79868903]]]),\n",
       " array([[[ 4.45510801, -8.14814369,  7.00280811],\n",
       "         [-0.56711736,  8.5273297 ,  4.9495386 ],\n",
       "         [-0.3361324 ,  2.92550895,  2.4966885 ],\n",
       "         [ 4.49388811, -8.8547354 ,  2.78835179],\n",
       "         [-6.71881899, -6.4315811 ,  5.0456823 ]]]),\n",
       " array([[[ 8.16896298,  8.24328539,  3.42048688],\n",
       "         [-5.02035595, 10.22378873,  5.44664538],\n",
       "         [ 2.97228432, -5.60294096,  5.20211812],\n",
       "         [-4.31227555, -5.2739478 ,  3.24082365],\n",
       "         [-3.99631808,  8.88942421,  2.70586195]]]),\n",
       " array([[[ 5.77899979, -2.60617186,  6.24586841],\n",
       "         [ 6.65151181, -1.50936366,  5.65083702],\n",
       "         [-8.58286605,  7.69411349,  3.43103715],\n",
       "         [-8.96141832,  5.97870361,  4.81712845],\n",
       "         [ 0.65513738, -1.3456545 ,  2.54116155]]])]"
      ]
     },
     "execution_count": 64,
     "metadata": {},
     "output_type": "execute_result"
    },
    {
     "data": {
      "image/png": "[encoded data removed]",
      "text/plain": [
       "<Figure size 432x288 with 1 Axes>"
      ]
     },
     "metadata": {
      "needs_background": "light"
     },
     "output_type": "display_data"
    }
   ],
   "source": [
    "df11 = DataFrame(columns=['d_pos','go_x','go_y'])\n",
    "\n",
    "# Generate GO x and y coord\n",
    "N = 4\n",
    "go_X = np.random.uniform(low=-10,high=10,size=N)\n",
    "go_Y = np.random.uniform(low=-10,high=10,size=N)\n",
    "plt.scatter(go_X,go_Y)\n",
    "df11[\"go_x\"] = go_X\n",
    "df11[\"go_y\"] = go_Y\n",
    "\n",
    "# np.linspace(0,1,11)\n",
    "# #arr_noise_sd = np.arange(0.1,3.1, 0.1) # drones r 3m/9ft apart\n",
    "# arr_noise_sd = np.array([0.1,0.2,0.3, 0.4, 0.5,0.6, 0.7,0.8, 0.9, 1,1.1, 1.2, 1.3,\n",
    "#        1.4, 1.5, 1.6, 1.7, 1.8, 1.9, 2]) # drones r 3m/9ft apart  \n",
    "# arr_noise_sd.shape,type(arr_noise_sd)\n",
    "# arr_noise_sd, len(arr_noise_sd)\n",
    "\n",
    "\n",
    "# 5 drone coord\n",
    "#d_pos_orig=np.array([[[4.3,4.3,2.4],[2.4,-1.2,4.7],[6.9,0.1,4.3],[9.4,7.6,2],[-0.2,1,6.2]]])\n",
    "list_dpos = []\n",
    "#arr_noise_sd=[2. , 2.1, 2.2, 2.3, 2.4, 2.5, 2.6, 2.7, 2.8, 2.9, 3]\n",
    "arr_noise_sd1 = [0.1,0.2]\n",
    "for sd in arr_noise_sd1:\n",
    "    for iterations in range(2):\n",
    "        dp_real = fun_generate_drone_pos()\n",
    "        noise = np.random.normal(0,sd, dp_real.shape)\n",
    "        d_pos = dp_real + noise\n",
    "        list_dpos.append(d_pos)\n",
    "\n",
    "df11[\"d_pos\"] = list_dpos\n",
    "\n",
    "df_time1 = DataFrame(columns=['1_1','1_2','1_3','1_4','1_5', '2_2', '2_3', '2_4', '2_5', '3_3', '3_4', '3_5',\n",
    "                         '4_4', '4_5', '5_5','d_pos', 'go_x', 'go_y'])\n",
    "\n",
    "n = 5\n",
    "for i in range(len(df11)):\n",
    "    d_row = df11.iloc[i]\n",
    "    d_pos=df11[\"d_pos\"][i].tolist()\n",
    "    d_pos_orig =  df11[\"d_pos\"][i]\n",
    "    d_pos_noise = d_pos_orig +np.random.normal(0,0.5, d_pos_orig.shape)\n",
    "    d_pos_noise=d_pos_noise.tolist()\n",
    "    list_orig_y = fun_s9(n, d_row,d_pos, i,d_pos_noise) \n",
    "df_time1\n",
    "list_dpos\n",
    "#df_time.to_csv('scenario3_incorrect_data_mm.csv', index=False)"
   ]
  },
  {
   "cell_type": "markdown",
   "metadata": {},
   "source": [
    "# Function to calculate actual TOF data, actual drone position "
   ]
  },
  {
   "cell_type": "code",
   "execution_count": 61,
   "metadata": {},
   "outputs": [],
   "source": [
    "# function to calculate distance - with n noise dPos\n",
    "\n",
    "def fun_s9(n, df_row, d_pos,row_num, d_pos_noise):\n",
    "    go_pos_x = df_row['go_x']\n",
    "    go_pos_y = df_row['go_y']\n",
    "    go_pos=np.array([go_pos_x, go_pos_y,0])\n",
    "    df_time1.loc[row_num]={}\n",
    "    json_df = {'d_pos': d_pos,'go_x':go_pos_x, 'go_y':go_pos_y }\n",
    "    for i in range(n):      \n",
    "        for k in range(i, n):\n",
    "                outer = i + 1\n",
    "                inner = k + 1\n",
    "                key = \"\" + str(outer) +\"_\"+ str(inner)\n",
    "\n",
    "                if(i==k):\n",
    "                    val=  math.sqrt(sum((go_pos-d_pos[0][i])**2)) * 2 \n",
    "                    #print(key, val)\n",
    "                else: \n",
    "                    #print(key , \",\", \"i = \", i, \"k=\", k)\n",
    "                    val = math.sqrt(sum((go_pos-d_pos[0][outer-1])**2)) + math.sqrt(sum((go_pos-d_pos[0][inner-1])**2))\n",
    "                    #print(key, val)\n",
    "                json_df.update({key: val})\n",
    "                df_time1.loc[row_num]=json_df"
   ]
  },
  {
   "cell_type": "markdown",
   "metadata": {},
   "source": [
    "# Function to calculate actual TOF data, actual drone position "
   ]
  },
  {
   "cell_type": "code",
   "execution_count": 5,
   "metadata": {},
   "outputs": [],
   "source": [
    "# function to calculate distance - with no noise dPos\n",
    "\n",
    "def fun_s9_real_time(n, df_row, d_pos,row_num):\n",
    "    go_pos_x = df_row['go_x']\n",
    "    go_pos_y = df_row['go_y']\n",
    "    go_pos=np.array([go_pos_x, go_pos_y,0])\n",
    "    df_time1.loc[row_num]={}\n",
    "    json_df = {'d_pos': d_pos,'go_x':go_pos_x, 'go_y':go_pos_y }\n",
    "    for i in range(n):      \n",
    "        for k in range(i, n):\n",
    "                outer = i + 1\n",
    "                inner = k + 1\n",
    "                key = \"\" + str(outer) +\"_\"+ str(inner)\n",
    "\n",
    "                if(i==k):\n",
    "                    val=  math.sqrt(sum((go_pos-d_pos[0][i])**2)) * 2 \n",
    "                    #print(key, val)\n",
    "                else: \n",
    "                    #print(key , \",\", \"i = \", i, \"k=\", k)\n",
    "                    val = math.sqrt(sum((go_pos-d_pos[0][outer-1])**2)) + math.sqrt(sum((go_pos-d_pos[0][inner-1])**2))\n",
    "                    #print(key, val)\n",
    "                json_df.update({key: val})\n",
    "                df_time1.loc[row_num]=json_df"
   ]
  },
  {
   "cell_type": "markdown",
   "metadata": {},
   "source": [
    "# Function to calculate actual TOF data,  noisy drone position "
   ]
  },
  {
   "cell_type": "code",
   "execution_count": 85,
   "metadata": {},
   "outputs": [],
   "source": [
    "# function to calculate distance - with n noise dPos\n",
    "\n",
    "def fun_s9_wrong_pos(n, df_row, d_pos,row_num,d_noise_pos):\n",
    "    go_pos_x = df_row['go_x']\n",
    "    go_pos_y = df_row['go_y']\n",
    "    go_pos=np.array([go_pos_x, go_pos_y,0])\n",
    "    df_time1.loc[row_num]={}\n",
    "    json_df = {'d_pos': d_noise_pos,'go_x':go_pos_x, 'go_y':go_pos_y }\n",
    "    for i in range(n):      \n",
    "        for k in range(i, n):\n",
    "                outer = i + 1\n",
    "                inner = k + 1\n",
    "                key = \"\" + str(outer) +\"_\"+ str(inner)\n",
    "\n",
    "                if(i==k):\n",
    "                    val=  math.sqrt(sum((go_pos-d_pos[0][i])**2)) * 2 \n",
    "                    #print(key, val)\n",
    "                else: \n",
    "                    #print(key , \",\", \"i = \", i, \"k=\", k)\n",
    "                    val = math.sqrt(sum((go_pos-d_pos[0][outer-1])**2)) + math.sqrt(sum((go_pos-d_pos[0][inner-1])**2))\n",
    "                    #print(key, val)\n",
    "                json_df.update({key: val})\n",
    "                df_time1.loc[row_num]=json_df"
   ]
  },
  {
   "cell_type": "markdown",
   "metadata": {},
   "source": [
    "# Function to calculate actual TOF data, both noisy drone position and actual drone position"
   ]
  },
  {
   "cell_type": "code",
   "execution_count": 94,
   "metadata": {},
   "outputs": [],
   "source": [
    "# function to calculate distance - with n noise dPos\n",
    "\n",
    "def fun_s9_both_pos(n, df_row, d_pos,row_num,d_noise_pos):\n",
    "    go_pos_x = df_row['go_x']\n",
    "    go_pos_y = df_row['go_y']\n",
    "    go_pos=np.array([go_pos_x, go_pos_y,0])\n",
    "    df_time_right.loc[row_num]={}\n",
    "    df_time_wrong.loc[row_num]={}\n",
    "    json_df_wrong = {'d_pos': d_noise_pos,'go_x':go_pos_x, 'go_y':go_pos_y }\n",
    "    json_df_right = {'d_pos': d_pos,'go_x':go_pos_x, 'go_y':go_pos_y }\n",
    "    for i in range(n):      \n",
    "        for k in range(i, n):\n",
    "                outer = i + 1\n",
    "                inner = k + 1\n",
    "                key = \"\" + str(outer) +\"_\"+ str(inner)\n",
    "\n",
    "                if(i==k):\n",
    "                    val=  math.sqrt(sum((go_pos-d_pos[0][i])**2)) * 2 \n",
    "                    #print(key, val)\n",
    "                else: \n",
    "                    #print(key , \",\", \"i = \", i, \"k=\", k)\n",
    "                    val = math.sqrt(sum((go_pos-d_pos[0][outer-1])**2)) + math.sqrt(sum((go_pos-d_pos[0][inner-1])**2))\n",
    "                    #print(key, val)\n",
    "                json_df_wrong.update({key: val})\n",
    "                json_df_right.update({key: val})\n",
    "                df_time_right.loc[row_num]=json_df_right\n",
    "                df_time_wrong.loc[row_num]=json_df_wrong"
   ]
  },
  {
   "cell_type": "markdown",
   "metadata": {},
   "source": [
    "# Train data - 10K - Actual drone positions"
   ]
  },
  {
   "cell_type": "code",
   "execution_count": 6,
   "metadata": {},
   "outputs": [
    {
     "data": {
      "image/png": "[encoded data removed]",
      "text/plain": [
       "<Figure size 432x288 with 1 Axes>"
      ]
     },
     "metadata": {
      "needs_background": "light"
     },
     "output_type": "display_data"
    }
   ],
   "source": [
    "df11 = DataFrame(columns=['d_pos','go_x','go_y'])\n",
    "\n",
    "# Generate GO x and y coord\n",
    "N = 10000\n",
    "go_X = np.random.uniform(low=-10,high=10,size=N)\n",
    "go_Y = np.random.uniform(low=-10,high=10,size=N)\n",
    "plt.scatter(go_X,go_Y)\n",
    "df11[\"go_x\"] = go_X\n",
    "df11[\"go_y\"] = go_Y\n",
    "\n",
    "list_dpos = []\n",
    "\n",
    "for iterations in range(10000):\n",
    "    dp_real = fun_generate_drone_pos()\n",
    "    list_dpos.append(dp_real)\n",
    "\n",
    "df11[\"d_pos\"] = list_dpos\n",
    "\n",
    "df_time1 = DataFrame(columns=['1_1','1_2','1_3','1_4','1_5', '2_2', '2_3', '2_4', '2_5', '3_3', '3_4', '3_5',\n",
    "                         '4_4', '4_5', '5_5','d_pos', 'go_x', 'go_y'])\n",
    "\n",
    "n = 5\n",
    "for i in range(len(df11)):\n",
    "    d_row = df11.iloc[i]\n",
    "    d_pos=df11[\"d_pos\"][i].tolist()\n",
    "    #d_pos_orig =  df11[\"d_pos\"][i]\n",
    "    #d_pos_noise = d_pos_orig +np.random.normal(0,0.5, d_pos_orig.shape)\n",
    "    #d_pos_noise=d_pos_noise.tolist()\n",
    "    list_orig_y = fun_s9_real_time(n, d_row,d_pos, i) \n",
    "#df_time1\n",
    "#list_dpos\n",
    "df_time1.to_csv('nov_train_10k.csv', index=False)"
   ]
  },
  {
   "cell_type": "code",
   "execution_count": 102,
   "metadata": {},
   "outputs": [
    {
     "data": {
      "text/plain": [
       "array([[[ 5.41478682,  7.94248626,  3.36931941],\n",
       "        [ 7.81718444, -3.87709133,  6.06889252],\n",
       "        [ 9.50990796,  0.66434379,  6.27914619],\n",
       "        [-7.62161287, -9.53070663,  6.80483684],\n",
       "        [-4.34481251, -3.63311711,  3.17289496]]])"
      ]
     },
     "execution_count": 102,
     "metadata": {},
     "output_type": "execute_result"
    }
   ],
   "source": [
    "fun_generate_drone_pos()"
   ]
  },
  {
   "cell_type": "markdown",
   "metadata": {},
   "source": [
    "# Test data - 1K records , constant object position, original drone position"
   ]
  },
  {
   "cell_type": "code",
   "execution_count": 110,
   "metadata": {},
   "outputs": [],
   "source": [
    "#single GO POsition - everything real\n",
    "\n",
    "# function to calculate distance\n",
    "\n",
    "def fun_plot_real(n, df_row, d_pos,row_num):\n",
    "    go_pos_x = 2.8\n",
    "    go_pos_y = 2.2\n",
    "    go_pos=np.array([go_pos_x, go_pos_y,0])\n",
    "    df_time.loc[row_num]={}   \n",
    "    json_df = {'d_pos': d_pos.tolist(),'go_x':go_pos_x, 'go_y':go_pos_y }\n",
    "    for i in range(n):      \n",
    "        for k in range(i, n):\n",
    "                outer = i + 1\n",
    "                inner = k + 1\n",
    "                key = \"\" + str(outer) +\"_\"+ str(inner)\n",
    "\n",
    "                if(i==k):\n",
    "                    val=  math.sqrt(sum((go_pos-d_pos[0][i])**2)) * 2 \n",
    "                    #print(key, val)\n",
    "                else: \n",
    "                    #print(key , \",\", \"i = \", i, \"k=\", k)\n",
    "                    val = math.sqrt(sum((go_pos-d_pos[0][outer-1])**2)) + math.sqrt(sum((go_pos-d_pos[0][inner-1])**2))\n",
    "                json_df.update({key: val})\n",
    "                df_time.loc[row_num]=json_df\n",
    "\n",
    "df = DataFrame(columns=['d_pos','go_x','go_y'])\n",
    "\n",
    "# Generate GO x and y coord\n",
    "# N = 100\n",
    "# go_X = np.random.uniform(low=-10,high=10,size=N)\n",
    "# go_Y = np.random.uniform(low=-10,high=10,size=N)\n",
    "# plt.scatter(go_X,go_Y)\n",
    "# df[\"go_x\"] = 2.8\n",
    "# df[\"go_y\"] = 2.2\n",
    "\n",
    "# 5 drone coord\n",
    "#d_pos_orig=np.array([[[ 5.41478682,  7.94248626,  3.36931941],[ 7.81718444, -3.87709133,  6.06889252], [ 9.50990796,  0.66434379,  6.27914619], [-7.62161287, -9.53070663,  6.80483684],[-4.34481251, -3.63311711,  3.17289496]]])\n",
    "list_dpos = []\n",
    "\n",
    "for iterations in range(1000):\n",
    "    dp_real = fun_generate_drone_pos_test()\n",
    "    list_dpos.append(dp_real) \n",
    "    \n",
    "df[\"d_pos\"] = list_dpos\n",
    "df_time = DataFrame(columns=['1_1','1_2','1_3','1_4','1_5', '2_2', '2_3', '2_4', '2_5', '3_3', '3_4', '3_5',\n",
    "                         '4_4', '4_5', '5_5','d_pos', 'go_x', 'go_y'])\n",
    "\n",
    "# n = 5\n",
    "for i in range(len(df)):\n",
    "    d_row = df.iloc[i]\n",
    "    #d_pos_noise=df[\"d_pos\"][i].tolist()\n",
    "    d_pos_orig =  df[\"d_pos\"][i]\n",
    "    #df[\"d_pos\"] =list_d_pos[i]\n",
    "    list_orig_y = fun_plot_real(n, d_row,d_pos_orig, i) \n",
    "    \n",
    "df_time.to_csv('s9_singledp_1k_05delta_records.csv', index=False)"
   ]
  },
  {
   "cell_type": "markdown",
   "metadata": {},
   "source": [
    "# Test data - 1K records , constant object position, noisy drone position"
   ]
  },
  {
   "cell_type": "code",
   "execution_count": 111,
   "metadata": {},
   "outputs": [],
   "source": [
    "#single GO POsition - wrong Drone pos\n",
    "\n",
    "# function to calculate distance\n",
    "\n",
    "def fun_plot_wrong(n, df_row, d_pos,row_num, dp_noise):\n",
    "    go_pos_x = 2.8\n",
    "    go_pos_y = 2.2\n",
    "    go_pos=np.array([go_pos_x, go_pos_y,0])\n",
    "    df_time.loc[row_num]={}   \n",
    "    json_df = {'d_pos': dp_noise,'go_x':go_pos_x, 'go_y':go_pos_y }\n",
    "    for i in range(n):      \n",
    "        for k in range(i, n):\n",
    "                outer = i + 1\n",
    "                inner = k + 1\n",
    "                key = \"\" + str(outer) +\"_\"+ str(inner)\n",
    "\n",
    "                if(i==k):\n",
    "                    val=  math.sqrt(sum((go_pos-d_pos[0][i])**2)) * 2 \n",
    "                    #print(key, val)\n",
    "                else: \n",
    "                    #print(key , \",\", \"i = \", i, \"k=\", k)\n",
    "                    val = math.sqrt(sum((go_pos-d_pos[0][outer-1])**2)) + math.sqrt(sum((go_pos-d_pos[0][inner-1])**2))\n",
    "                json_df.update({key: val})\n",
    "                df_time.loc[row_num]=json_df\n",
    "\n",
    "df = DataFrame(columns=['d_pos','go_x','go_y'])\n",
    "\n",
    "# Generate GO x and y coord\n",
    "# N = 100\n",
    "# go_X = np.random.uniform(low=-10,high=10,size=N)\n",
    "# go_Y = np.random.uniform(low=-10,high=10,size=N)\n",
    "# plt.scatter(go_X,go_Y)\n",
    "# df[\"go_x\"] = 2.8\n",
    "# df[\"go_y\"] = 2.2\n",
    "\n",
    "# 5 drone coord\n",
    "#d_pos_orig=np.array([[[ 5.41478682,  7.94248626,  3.36931941],[ 7.81718444, -3.87709133,  6.06889252], [ 9.50990796,  0.66434379,  6.27914619], [-7.62161287, -9.53070663,  6.80483684],[-4.34481251, -3.63311711,  3.17289496]]])\n",
    "list_dpos = []\n",
    "\n",
    "for iterations in range(1000):\n",
    "    dp_real = fun_generate_drone_pos_test()\n",
    "    list_dpos.append(dp_real) \n",
    "    \n",
    "df[\"d_pos\"] = list_dpos\n",
    "df_time = DataFrame(columns=['1_1','1_2','1_3','1_4','1_5', '2_2', '2_3', '2_4', '2_5', '3_3', '3_4', '3_5',\n",
    "                         '4_4', '4_5', '5_5','d_pos', 'go_x', 'go_y'])\n",
    "\n",
    "# n = 5\n",
    "for i in range(len(df)):\n",
    "    d_row = df.iloc[i]\n",
    "    #d_pos_noise=df[\"d_pos\"][i].tolist()\n",
    "    d_pos_orig =  df[\"d_pos\"][i]\n",
    "    #df[\"d_pos\"] =list_d_pos[i]\n",
    "    d_pos_noise = d_pos_orig +np.random.normal(0,0.5, d_pos_orig.shape)\n",
    "    d_pos_noise=d_pos_noise.tolist()\n",
    "    list_orig_y = fun_plot_wrong(n, d_row,d_pos_orig, i,d_pos_noise) \n",
    "    \n",
    "df_time.to_csv('s9_singledgo_1k_05delta_records.csv', index=False)"
   ]
  },
  {
   "cell_type": "markdown",
   "metadata": {},
   "source": [
    "# Generate 100 reords of Test data for each noise factor 0.1....0.5, constant object position"
   ]
  },
  {
   "cell_type": "code",
   "execution_count": 131,
   "metadata": {},
   "outputs": [
    {
     "data": {
      "image/png": "[encoded data removed]",
      "text/plain": [
       "<Figure size 432x288 with 1 Axes>"
      ]
     },
     "metadata": {
      "needs_background": "light"
     },
     "output_type": "display_data"
    }
   ],
   "source": [
    "#test data generation - both right n wrong pos - different exl\n",
    "\n",
    "# function to calculate distance - with n noise dPos\n",
    "def fun_s9_both_pos1(n, df_row, d_pos,row_num,d_noise_pos,go_pos_x,go_pos_y):\n",
    "    go_pos=np.array([go_pos_x, go_pos_y,0])\n",
    "    df_time_right.loc[row_num]={}\n",
    "    df_time_wrong.loc[row_num]={}\n",
    "    json_df_wrong = {'d_pos': d_noise_pos,'d_pos_real' :d_pos , 'go_x':go_pos_x, 'go_y':go_pos_y }\n",
    "    json_df_right = {'d_pos': d_pos,'go_x':go_pos_x, 'go_y':go_pos_y }\n",
    "    for i in range(n):      \n",
    "        for k in range(i, n):\n",
    "                outer = i + 1\n",
    "                inner = k + 1\n",
    "                key = \"\" + str(outer) +\"_\"+ str(inner)\n",
    "\n",
    "                if(i==k):\n",
    "                    val=  math.sqrt(sum((go_pos-d_pos[0][i])**2)) * 2 \n",
    "                    #print(key, val)\n",
    "                else: \n",
    "                    #print(key , \",\", \"i = \", i, \"k=\", k)\n",
    "                    val = math.sqrt(sum((go_pos-d_pos[0][outer-1])**2)) + math.sqrt(sum((go_pos-d_pos[0][inner-1])**2))\n",
    "                    #print(key, val)\n",
    "                json_df_wrong.update({key: val})\n",
    "                json_df_right.update({key: val})\n",
    "                df_time_right.loc[row_num]=json_df_right\n",
    "                df_time_wrong.loc[row_num]=json_df_wrong\n",
    "    return df_time_right, df_time_wrong\n",
    "\n",
    "df11 = DataFrame(columns=['d_pos','go_x','go_y'])\n",
    "\n",
    "# Generate GO x and y coord\n",
    "N = 100\n",
    "go_X = np.random.uniform(low=-10,high=10,size=N)\n",
    "go_Y = np.random.uniform(low=-10,high=10,size=N)\n",
    "plt.scatter(go_X,go_Y)\n",
    "df11[\"go_x\"] = go_X\n",
    "df11[\"go_y\"] = go_Y\n",
    "\n",
    "list_dpos = []\n",
    "\n",
    "for iterations in range(100):\n",
    "    dp_real = fun_generate_drone_pos1()\n",
    "    list_dpos.append(dp_real)\n",
    "\n",
    "df11[\"d_pos\"] = list_dpos\n",
    "\n",
    "df_time_right = DataFrame(columns=['1_1','1_2','1_3','1_4','1_5', '2_2', '2_3', '2_4', '2_5', '3_3', '3_4', '3_5',\n",
    "                         '4_4', '4_5', '5_5','d_pos', 'go_x', 'go_y'])\n",
    "df_time_wrong = DataFrame(columns=['1_1','1_2','1_3','1_4','1_5', '2_2', '2_3', '2_4', '2_5', '3_3', '3_4', '3_5',\n",
    "                         '4_4', '4_5', '5_5','d_pos','d_pos_real', 'go_x', 'go_y'])\n",
    "\n",
    "n = 5\n",
    "\n",
    "#---------0.05-------------------------------\n",
    "for i in range(len(df11)):\n",
    "    d_row = df11.iloc[i]\n",
    "    d_pos_orig =  df11[\"d_pos\"][i]\n",
    "    d_pos_noise = d_pos_orig +np.random.normal(0,0.05, d_pos_orig.shape)\n",
    "    d_pos_noise=d_pos_noise.tolist()\n",
    "    fun_s9_both_pos1(n, d_row,d_pos_orig.tolist(), i,d_pos_noise,2.8,2.2) \n",
    "df_time_wrong.to_csv('s9_wrong_TEST_data_100_005delta.csv', index=False)\n",
    "\n",
    "#---------0.1-------------------------------\n",
    "for i in range(len(df11)):\n",
    "    d_row = df11.iloc[i]\n",
    "    d_pos=df11[\"d_pos\"][i].tolist()\n",
    "    d_pos_orig =  df11[\"d_pos\"][i]\n",
    "    d_pos_noise = d_pos_orig +np.random.normal(0,0.1, d_pos_orig.shape)\n",
    "    d_pos_noise=d_pos_noise.tolist()\n",
    "    fun_s9_both_pos1(n, d_row,d_pos, i,d_pos_noise,2.8,2.2) \n",
    "df_time_wrong.to_csv('s9_wrong_TEST_data_100_01delta.csv', index=False)\n",
    "\n",
    "#---------0.2-------------------------------\n",
    "for i in range(len(df11)):\n",
    "    d_row = df11.iloc[i]\n",
    "    d_pos=df11[\"d_pos\"][i].tolist()\n",
    "    d_pos_orig =  df11[\"d_pos\"][i]\n",
    "    d_pos_noise = d_pos_orig +np.random.normal(0,0.2, d_pos_orig.shape)\n",
    "    d_pos_noise=d_pos_noise.tolist()\n",
    "    fun_s9_both_pos1(n, d_row,d_pos, i,d_pos_noise,2.8,2.2) \n",
    "df_time_wrong.to_csv('s9_wrong_TEST_data_100_02delta.csv', index=False)\n",
    "\n",
    "#---------0.3-------------------------------\n",
    "for i in range(len(df11)):\n",
    "    d_row = df11.iloc[i]\n",
    "    d_pos=df11[\"d_pos\"][i].tolist()\n",
    "    d_pos_orig =  df11[\"d_pos\"][i]\n",
    "    d_pos_noise = d_pos_orig +np.random.normal(0,0.3, d_pos_orig.shape)\n",
    "    d_pos_noise=d_pos_noise.tolist()\n",
    "    fun_s9_both_pos1(n, d_row,d_pos, i,d_pos_noise,2.8,2.2) \n",
    "df_time_wrong.to_csv('s9_wrong_TEST_data_100_03delta.csv', index=False)\n",
    "\n",
    "#---------0.4-------------------------------\n",
    "for i in range(len(df11)):\n",
    "    d_row = df11.iloc[i]\n",
    "    d_pos=df11[\"d_pos\"][i].tolist()\n",
    "    d_pos_orig =  df11[\"d_pos\"][i]\n",
    "    d_pos_noise = d_pos_orig +np.random.normal(0,0.4, d_pos_orig.shape)\n",
    "    d_pos_noise=d_pos_noise.tolist()\n",
    "    fun_s9_both_pos1(n, d_row,d_pos, i,d_pos_noise,2.8,2.2) \n",
    "df_time_wrong.to_csv('s9_wrong_TEST_data_100_04delta.csv', index=False)\n",
    "\n",
    "#---------0.5-------------------------------\n",
    "for i in range(len(df11)):\n",
    "    d_row = df11.iloc[i]\n",
    "    d_pos=df11[\"d_pos\"][i].tolist()\n",
    "    d_pos_orig =  df11[\"d_pos\"][i]\n",
    "    d_pos_noise = d_pos_orig +np.random.normal(0,0.5, d_pos_orig.shape)\n",
    "    d_pos_noise=d_pos_noise.tolist()\n",
    "    fun_s9_both_pos1(n, d_row,d_pos, i,d_pos_noise,2.8,2.2) \n",
    "df_time_wrong.to_csv('s9_wrong_TEST_data_100_05delta.csv', index=False)\n",
    "\n",
    "df_time_right.to_csv('s9_right_TEST_data_100.csv', index=False)\n",
    "\n"
   ]
  },
  {
   "cell_type": "code",
   "execution_count": 79,
   "metadata": {},
   "outputs": [
    {
     "data": {
      "application/vnd.jupyter.widget-view+json": {
       "model_id": "cac6fc8fc65e44299caee1f8db843701",
       "version_major": 2,
       "version_minor": 0
      },
      "text/plain": [
       "HBox(children=(HTML(value=''), FloatProgress(value=0.0, max=9.0), HTML(value='')))"
      ]
     },
     "metadata": {},
     "output_type": "display_data"
    },
    {
     "name": "stdout",
     "output_type": "stream",
     "text": [
      "1\n",
      "2\n",
      "3\n",
      "4\n",
      "5\n",
      "6\n",
      "7\n",
      "8\n",
      "9\n",
      "\n"
     ]
    }
   ],
   "source": [
    "from tqdm.notebook import tqdm\n",
    "n=3\n",
    "for e in tqdm(range(1, 10)):\n",
    "    print(e)"
   ]
  },
  {
   "cell_type": "code",
   "execution_count": 80,
   "metadata": {},
   "outputs": [
    {
     "data": {
      "application/vnd.jupyter.widget-view+json": {
       "model_id": "6711091fa48148da9f62ed34ebca8926",
       "version_major": 2,
       "version_minor": 0
      },
      "text/plain": [
       "HBox(children=(HTML(value=''), FloatProgress(value=0.0, max=9.0), HTML(value='')))"
      ]
     },
     "metadata": {},
     "output_type": "display_data"
    },
    {
     "name": "stdout",
     "output_type": "stream",
     "text": [
      "11\n",
      "12\n",
      "13\n",
      "14\n",
      "15\n",
      "16\n",
      "17\n",
      "18\n",
      "19\n",
      "\n"
     ]
    }
   ],
   "source": [
    "for e in tqdm(range(11, 20)):\n",
    "    print(e)"
   ]
  },
  {
   "cell_type": "code",
   "execution_count": 120,
   "metadata": {},
   "outputs": [
    {
     "data": {
      "text/plain": [
       "array([[[-8.41317435, -1.11793542,  3.22900097],\n",
       "        [-8.25965986, -5.27552286,  5.73749746],\n",
       "        [-3.58750456,  0.86087101,  6.09823913],\n",
       "        [ 6.13001648, -4.05931502,  3.21829385],\n",
       "        [ 7.92240174, -1.87822368,  4.50899728]]])"
      ]
     },
     "execution_count": 120,
     "metadata": {},
     "output_type": "execute_result"
    }
   ],
   "source": [
    "dp_real = fun_generate_drone_pos1()\n",
    "dp_real"
   ]
  },
  {
   "cell_type": "code",
   "execution_count": 122,
   "metadata": {},
   "outputs": [
    {
     "data": {
      "text/plain": [
       "array([-8.41317435, -1.11793542,  3.22900097, -8.25965986, -5.27552286,\n",
       "        5.73749746, -3.58750456,  0.86087101,  6.09823913,  6.13001648,\n",
       "       -4.05931502,  3.21829385,  7.92240174, -1.87822368,  4.50899728])"
      ]
     },
     "execution_count": 122,
     "metadata": {},
     "output_type": "execute_result"
    }
   ],
   "source": [
    "dp_real=dp_real.flatten()\n",
    "dp_real"
   ]
  },
  {
   "cell_type": "markdown",
   "metadata": {},
   "source": [
    "# Test data - 100 - actual dp, constant object position"
   ]
  },
  {
   "cell_type": "code",
   "execution_count": 138,
   "metadata": {},
   "outputs": [],
   "source": [
    "def fun_plot_real_constant(n, df_row, d_pos,row_num):\n",
    "    go_pos_x = 2.8\n",
    "    go_pos_y = 2.2\n",
    "    go_pos=np.array([go_pos_x, go_pos_y,0])\n",
    "    dfout.loc[row_num]={}   \n",
    "    json_df = {'d_pos': d_pos,'go_x':go_pos_x, 'go_y':go_pos_y }\n",
    "    for i in range(n):      \n",
    "        for k in range(i, n):\n",
    "                outer = i + 1\n",
    "                inner = k + 1\n",
    "                key = \"\" + str(outer) +\"_\"+ str(inner)\n",
    "\n",
    "                if(i==k):\n",
    "                    val=  math.sqrt(sum((go_pos-d_pos[0][i])**2)) * 2 \n",
    "                    #print(key, val)\n",
    "                else: \n",
    "                    #print(key , \",\", \"i = \", i, \"k=\", k)\n",
    "                    val = math.sqrt(sum((go_pos-d_pos[0][outer-1])**2)) + math.sqrt(sum((go_pos-d_pos[0][inner-1])**2))\n",
    "                json_df.update({key: val})\n",
    "                dfout.loc[row_num]=json_df\n",
    "\n",
    "def fun_generate_drone_pos_out_range():\n",
    "    lpos = []\n",
    "    for i in range(5):\n",
    "        xy=np.random.uniform(10,15,2)\n",
    "        x=xy[0]\n",
    "        y=xy[1]\n",
    "        z=np.random.uniform(8,12,1)[0]\n",
    "        lpos.append(x)\n",
    "        lpos.append(y)\n",
    "        lpos.append(z)\n",
    "    #print(lpos)\n",
    "    return (np.asarray(lpos).reshape(1,5, 3))\n",
    "#fun_generate_drone_pos()\n",
    "\n",
    "list_dpos = []\n",
    "\n",
    "df11 = DataFrame(columns=['d_pos','go_x','go_y'])\n",
    "\n",
    "# Generate GO x and y coord\n",
    "N = 100\n",
    "for iterations in range(100):\n",
    "    dp_real = fun_generate_drone_pos_out_range()\n",
    "    list_dpos.append(dp_real)\n",
    "\n",
    "df11[\"d_pos\"] = list_dpos\n",
    "dfout = DataFrame(columns=['1_1','1_2','1_3','1_4','1_5', '2_2', '2_3', '2_4', '2_5', '3_3', '3_4', '3_5',\n",
    "                         '4_4', '4_5', '5_5','d_pos', 'go_x', 'go_y'])\n",
    "for i in range(len(df11)):\n",
    "    d_row = df11.iloc[i]\n",
    "    d_pos_orig =  df11[\"d_pos\"][i]\n",
    "    d_pos_noise = d_pos_orig +np.random.normal(0,0.05, d_pos_orig.shape)\n",
    "    d_pos_noise=d_pos_noise.tolist()\n",
    "    fun_plot_real_constant(n, d_row,d_pos_orig.tolist(), i) \n",
    "dfout.to_csv('outrange.csv', index=False)\n"
   ]
  },
  {
   "cell_type": "code",
   "execution_count": 7,
   "metadata": {},
   "outputs": [
    {
     "data": {
      "text/plain": [
       "31.25"
      ]
     },
     "execution_count": 7,
     "metadata": {},
     "output_type": "execute_result"
    }
   ],
   "source": [
    "1000/32"
   ]
  },
  {
   "cell_type": "markdown",
   "metadata": {},
   "source": [
    "#  Train data - 30K - noisy DP"
   ]
  },
  {
   "cell_type": "code",
   "execution_count": 14,
   "metadata": {},
   "outputs": [
    {
     "data": {
      "image/png": "[encoded data removed]",
      "text/plain": [
       "<Figure size 432x288 with 1 Axes>"
      ]
     },
     "metadata": {
      "needs_background": "light"
     },
     "output_type": "display_data"
    }
   ],
   "source": [
    "#single GO POsition - wrong Drone pos\n",
    "\n",
    "# function to calculate Time-of-flight\n",
    "def fun_plot_wrong(n, df_row, d_pos_right,row_num, dp_noise):\n",
    "    go_pos_x = df_row[\"go_x\"]\n",
    "    go_pos_y = df_row[\"go_y\"]\n",
    "    go_pos=np.array([go_pos_x, go_pos_y,0])\n",
    "    df_time.loc[row_num]={}   \n",
    "    json_df = {'d_pos': dp_noise.tolist(),'d_right': d_pos_right.tolist() ,'go_x':go_pos_x, 'go_y':go_pos_y }\n",
    "    for i in range(n):      \n",
    "        for k in range(i, n):\n",
    "                outer = i + 1\n",
    "                inner = k + 1\n",
    "                key = \"\" + str(outer) +\"_\"+ str(inner)\n",
    "                if(i==k):\n",
    "                    val=  math.sqrt(sum((go_pos-d_pos_right[0][i])**2)) * 2 \n",
    "                else: \n",
    "                    val = math.sqrt(sum((go_pos-d_pos_right[0][outer-1])**2)) + math.sqrt(sum((go_pos-d_pos_right[0][inner-1])**2))\n",
    "                json_df.update({key: val})\n",
    "                df_time.loc[row_num]=json_df\n",
    "\n",
    "# function to generate drone positions             \n",
    "def fun_generate_drone_pos_train():\n",
    "    lpos = []\n",
    "    for i in range(5):\n",
    "        xy=np.random.uniform(-9,9,2)\n",
    "        x=xy[0]\n",
    "        y=xy[1]\n",
    "        z=np.random.uniform(2.5,6.5,1)[0]\n",
    "        lpos.append(x)\n",
    "        lpos.append(y)\n",
    "        lpos.append(z)\n",
    "    return (np.asarray(lpos).reshape(1,5, 3))            \n",
    "                \n",
    "df = DataFrame(columns=['d_pos','go_x','go_y'])\n",
    "N = 30000\n",
    "go_X = np.random.uniform(low=-10,high=10,size=N)\n",
    "go_Y = np.random.uniform(low=-10,high=10,size=N)\n",
    "plt.scatter(go_X,go_Y)\n",
    "df[\"go_x\"] = go_X\n",
    "df[\"go_y\"] = go_Y\n",
    "\n",
    "# 5 drone coord\n",
    "list_dpos = []\n",
    "list_dpos_right = []\n",
    "\n",
    "arr_noise_sd = np.arange(0.1,1.1, 0.1) \n",
    "for sd in arr_noise_sd:\n",
    "    for iterations in range(3000):\n",
    "        dp_real = fun_generate_drone_pos_train()\n",
    "        noise = np.random.normal(0,sd, dp_real.shape)\n",
    "        d_pos = dp_real + noise\n",
    "        list_dpos.append(d_pos)\n",
    "        list_dpos_right.append(dp_real)\n",
    "    \n",
    "df[\"d_pos\"] = list_dpos\n",
    "df[\"d_right\"] = list_dpos_right\n",
    "df_time = DataFrame(columns=['1_1','1_2','1_3','1_4','1_5', '2_2', '2_3', '2_4', '2_5', '3_3', '3_4', '3_5',\n",
    "                         '4_4', '4_5', '5_5','d_pos','d_right', 'go_x', 'go_y'])\n",
    "\n",
    "n = 5\n",
    "for sd in arr_noise_sd:\n",
    "    for i in range(len(df)):\n",
    "        d_row = df.iloc[i]\n",
    "        d_pos =  df[\"d_pos\"][i]\n",
    "        d_pos_right =  df[\"d_right\"][i]\n",
    "        list_orig_y = fun_plot_wrong(n, d_row,d_pos_right, i,d_pos) \n",
    "    \n",
    "df_time.to_csv('30k_nov.csv', index=False)"
   ]
  },
  {
   "cell_type": "code",
   "execution_count": null,
   "metadata": {},
   "outputs": [],
   "source": []
  }
 ],
 "metadata": {
  "kernelspec": {
   "display_name": "Python 3",
   "language": "python",
   "name": "python3"
  },
  "language_info": {
   "codemirror_mode": {
    "name": "ipython",
    "version": 3
   },
   "file_extension": ".py",
   "mimetype": "text/x-python",
   "name": "python",
   "nbconvert_exporter": "python",
   "pygments_lexer": "ipython3",
   "version": "3.8.5"
  }
 },
 "nbformat": 4,
 "nbformat_minor": 4
}

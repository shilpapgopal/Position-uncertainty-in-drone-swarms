{
 "cells": [
  {
   "cell_type": "markdown",
   "metadata": {},
   "source": [
    "## Scenario7 - Study Optimal drone formation"
   ]
  },
  {
   "cell_type": "code",
   "execution_count": 2,
   "metadata": {},
   "outputs": [],
   "source": [
    "from scipy.optimize import least_squares\n",
    "import numpy as np\n",
    "import time\n",
    "from pandas import DataFrame\n",
    "import math\n",
    "import pandas as pd\n",
    "import seaborn as sns\n",
    "import matplotlib.pyplot as plt\n",
    "import plotly.express as px\n",
    "from scipy.stats import sem\n",
    "from sklearn import  linear_model\n",
    "import ast\n",
    "from scipy.optimize import curve_fit\n",
    "import time\n",
    "import random"
   ]
  },
  {
   "cell_type": "code",
   "execution_count": null,
   "metadata": {},
   "outputs": [],
   "source": []
  },
  {
   "cell_type": "markdown",
   "metadata": {},
   "source": [
    "# Util methods"
   ]
  },
  {
   "cell_type": "markdown",
   "metadata": {},
   "source": [
    "### Method to generate drone position required for simulation"
   ]
  },
  {
   "cell_type": "code",
   "execution_count": 28,
   "metadata": {},
   "outputs": [],
   "source": [
    "def fun_generate_drone_pos(drone_count):\n",
    "    lpos = []\n",
    "    for i in range(drone_count):\n",
    "        xy=np.random.uniform(1,8,2)\n",
    "        x=xy[0]\n",
    "        y=xy[1]\n",
    "        z=np.random.uniform(2,7,1)[0]\n",
    "        lpos.append(x)\n",
    "        lpos.append(y)\n",
    "        lpos.append(z)\n",
    "    #print(lpos)\n",
    "    return (np.asarray(lpos).reshape(1,drone_count, 3))\n",
    "#fun_generate_drone_pos()"
   ]
  },
  {
   "cell_type": "markdown",
   "metadata": {},
   "source": [
    "### Calculate the time-of-flight data with the actual drone position and ground object location"
   ]
  },
  {
   "cell_type": "code",
   "execution_count": 4,
   "metadata": {},
   "outputs": [],
   "source": [
    "def calc_timelags_noisedp(n, dp_orig, dp_noise):\n",
    "    json_loc = {}\n",
    "    list_orig_y = []\n",
    "    json1 = {}\n",
    "    for i in range(n):\n",
    "        for k in range(i, n):\n",
    "            outer = i + 1\n",
    "            inner = k + 1\n",
    "            key = \"\" + str(outer) +\"_\"+ str(inner)\n",
    "\n",
    "            if(i==k):\n",
    "                val=  math.sqrt(sum((x_original-dp_orig[0][i])**2)) * 2 \n",
    "                pos1 = dp_noise[0][i]\n",
    "                pos2 = \"\"\n",
    "                #print(key, \" \", val)\n",
    "            else: \n",
    "                #print(key , \",\", \"i = \", i, \"k=\", k)\n",
    "                val = math.sqrt(sum((x_original-dp_orig[0][outer-1])**2)) + math.sqrt(sum((x_original-dp_orig[0][inner-1])**2))\n",
    "                pos1 = dp_noise[0][outer-1]\n",
    "                pos2 = dp_noise[0][inner-1]\n",
    "                #print(key, \" \", val)\n",
    "            \n",
    "            json11 = {key: val, \"pos1\":pos1, \"pos2\":pos2 }\n",
    "            json1.update(json11)\n",
    "            list_orig_y.append(json11)\n",
    "            #json.append(json1)\n",
    "\n",
    "    #print(json1)\n",
    "    return list_orig_y\n",
    "    \n",
    "#y = [9.095598162479572,9.282884570730419,12.974780298767472,5.403702434442518,12.787493890516625,13.162066707018319]"
   ]
  },
  {
   "cell_type": "markdown",
   "metadata": {},
   "source": [
    "### Calculate the difference bw actual and recovered object location"
   ]
  },
  {
   "cell_type": "code",
   "execution_count": 5,
   "metadata": {},
   "outputs": [],
   "source": [
    "def calc_recored_go_pos_err(actual_go,recovered_go):\n",
    "    sq_diff=((actual_go-recovered_go)**2)\n",
    "    total_sum_go_err = np.sqrt(  sq_diff[0]) + np.sqrt( sq_diff[1]) + np.sqrt( sq_diff[2])\n",
    "    return total_sum_go_err"
   ]
  },
  {
   "cell_type": "markdown",
   "metadata": {},
   "source": [
    "### Objective function to recover the object location - the function takes input as initial guess of object location, drone coordinates, time-of-flight and LS method iteratively calls this function to minimize"
   ]
  },
  {
   "cell_type": "code",
   "execution_count": 6,
   "metadata": {},
   "outputs": [],
   "source": [
    "\n",
    "def recover_GO_pos(x ):\n",
    "\n",
    "    x[2]=0\n",
    "    list_orig_y = list_temp_json[0]\n",
    "    listval =[]\n",
    "\n",
    "    for json_y in list_orig_y:\n",
    "        c = 0\n",
    "        for key in json_y:\n",
    "            # execute the logic only once per json obj(there are 3 keys), c=0 controls this logic\n",
    "            if(c==0):\n",
    "                v = json_y[key]\n",
    "                k = key.split(\"_\")\n",
    "                k1 = k[0]\n",
    "                k2 = k[1]\n",
    "                \n",
    "                k1=k1.strip()\n",
    "                k1=int(k1)\n",
    "                \n",
    "                k2=k2.strip()\n",
    "                k2=int(k2)\n",
    "\n",
    "                if(k1==k2):\n",
    "                    val=  v - math.sqrt(sum((x-json_y[\"pos1\"])**2))* 2\n",
    "                    listval.append(val)\n",
    "                else:\n",
    "                    val = v - (math.sqrt(sum((x-json_y[\"pos1\"])**2)) + math.sqrt(sum((x-json_y[\"pos2\"])**2)))\n",
    "                    listval.append(val)\n",
    "                    \n",
    "            c = 1\n",
    "    an_array = np.array(listval)\n",
    "    an_array1 = an_array**2\n",
    "    loss = sum(an_array1)\n",
    "    return np.array(loss)"
   ]
  },
  {
   "cell_type": "markdown",
   "metadata": {},
   "source": [
    "### Function to add noise to drone position"
   ]
  },
  {
   "cell_type": "code",
   "execution_count": 7,
   "metadata": {},
   "outputs": [],
   "source": [
    "def addnoise_to_drone_pos(dp_orig, sd):\n",
    "    noise = np.random.normal(0, sd, dp_orig.shape)\n",
    "    dp_noise = dp_orig + noise\n",
    "    return dp_noise"
   ]
  },
  {
   "cell_type": "markdown",
   "metadata": {},
   "source": [
    "### Generate a list containing noise levels - standard deviation in drone position"
   ]
  },
  {
   "cell_type": "code",
   "execution_count": 12,
   "metadata": {},
   "outputs": [
    {
     "data": {
      "text/plain": [
       "array([0.  , 0.01, 0.02, 0.03, 0.04, 0.05, 0.06, 0.07, 0.08, 0.09, 0.1 ,\n",
       "       0.11, 0.12, 0.13, 0.14, 0.15, 0.16, 0.17, 0.18, 0.19, 0.2 , 0.21,\n",
       "       0.22, 0.23, 0.24, 0.25, 0.26, 0.27, 0.28, 0.29, 0.3 , 0.31, 0.32,\n",
       "       0.33, 0.34, 0.35, 0.36, 0.37, 0.38, 0.39, 0.4 , 0.41, 0.42, 0.43,\n",
       "       0.44, 0.45, 0.46, 0.47, 0.48, 0.49, 0.5 , 0.51, 0.52, 0.53, 0.54,\n",
       "       0.55, 0.56, 0.57, 0.58, 0.59, 0.6 , 0.61, 0.62, 0.63, 0.64, 0.65,\n",
       "       0.66, 0.67, 0.68, 0.69, 0.7 , 0.71, 0.72, 0.73, 0.74, 0.75, 0.76,\n",
       "       0.77, 0.78, 0.79, 0.8 , 0.81, 0.82, 0.83, 0.84, 0.85, 0.86, 0.87,\n",
       "       0.88, 0.89, 0.9 , 0.91, 0.92, 0.93, 0.94, 0.95, 0.96, 0.97, 0.98,\n",
       "       0.99])"
      ]
     },
     "execution_count": 12,
     "metadata": {},
     "output_type": "execute_result"
    }
   ],
   "source": [
    "np.linspace(0,1,11)\n",
    "arr_noise_sd = np.arange(0.0,1, 0.01) # drones r 3m/9ft apart\n",
    "arr_noise_sd.shape,type(arr_noise_sd)\n",
    "arr_noise_sd"
   ]
  },
  {
   "cell_type": "markdown",
   "metadata": {},
   "source": [
    "# Random flight config"
   ]
  },
  {
   "cell_type": "code",
   "execution_count": 8,
   "metadata": {},
   "outputs": [],
   "source": [
    "x_original=np.array([2.8,2.2,0])\n",
    "xy_initial = np.array([0,0,0]) \n",
    "d_pos_orig3=np.array([[[4.3,4.3,0.8],[2.4,-1.2,5.4],[6.9,0.1,4.7]]]) # drone loc n=3"
   ]
  },
  {
   "cell_type": "markdown",
   "metadata": {},
   "source": [
    "### Invoke LS with different drone count for noise level 0.5"
   ]
  },
  {
   "cell_type": "code",
   "execution_count": 29,
   "metadata": {},
   "outputs": [
    {
     "name": "stdout",
     "output_type": "stream",
     "text": [
      "--- 542.8616237640381 seconds ---\n"
     ]
    }
   ],
   "source": [
    "drone_count=3\n",
    "start_time = time.time()\n",
    "\n",
    "list_temp_json = []\n",
    "\n",
    "df_results3 = DataFrame(columns=['uncer_dp', 'uncer_rec_go', 'sd_rec_go_pos', 'std_err_rec_go_pos'])\n",
    "ite = 0\n",
    "for noise_sd in arr_noise_sd:\n",
    "    list_goerror = []\n",
    "    ite +=1\n",
    "    for iterations in range(200):\n",
    "        list_temp_json.clear()\n",
    "        dp_real = fun_generate_drone_pos(drone_count)\n",
    "        dp_noise = addnoise_to_drone_pos(dp_real,sd=noise_sd)\n",
    "        list_orig_y = calc_timelags_noisedp(drone_count,dp_real, dp_noise)\n",
    "        list_temp_json.insert(0, list_orig_y)\n",
    "\n",
    "        result = least_squares(recover_GO_pos, xy_initial)\n",
    "        err_go = calc_recored_go_pos_err(x_original,result.x)\n",
    "\n",
    "        list_goerror.append(err_go)\n",
    "        \n",
    "    avg_err_go = np.mean(list_goerror)\n",
    "    sd_rec_calc_gopos = np.std(list_goerror) # sd of rec go obj pos\n",
    "    std_err_calc_gopos = sem(list_goerror)   # std dev of rec go obj pos = sd/sqrt(n-1)\n",
    "    df_results3.loc[ite-1] = [noise_sd, avg_err_go, sd_rec_calc_gopos,std_err_calc_gopos]\n",
    "\n",
    "print(\"--- %s seconds ---\" % (time.time() - start_time))      \n"
   ]
  },
  {
   "cell_type": "markdown",
   "metadata": {},
   "source": [
    "# L-shape configuration"
   ]
  },
  {
   "cell_type": "markdown",
   "metadata": {},
   "source": [
    "### Invoke LS with different drone count for noise level 0.5"
   ]
  },
  {
   "cell_type": "code",
   "execution_count": 23,
   "metadata": {},
   "outputs": [
    {
     "name": "stdout",
     "output_type": "stream",
     "text": [
      "--- 142.79792380332947 seconds ---\n"
     ]
    }
   ],
   "source": [
    "drone_count=3\n",
    "dp_orig_Lshape = np.array([[[10,0,10],[0,10,10],[0,0,10]]]) # drone - Lshape config - 3 drones\n",
    "\n",
    "start_time = time.time()\n",
    "\n",
    "list_temp_json = []\n",
    "\n",
    "df_results_lshape = DataFrame(columns=['uncer_dp', 'uncer_rec_go', 'sd_rec_go_pos', 'std_err_rec_go_pos'])\n",
    "ite = 0\n",
    "for noise_sd in arr_noise_sd:\n",
    "    list_goerror = []\n",
    "    ite +=1\n",
    "    for iterations in range(200):\n",
    "        list_temp_json.clear()\n",
    "        dp_real = dp_orig_Lshape\n",
    "        dp_noise = addnoise_to_drone_pos(dp_real,sd=noise_sd)\n",
    "        list_orig_y = calc_timelags_noisedp(drone_count,dp_real, dp_noise)\n",
    "        list_temp_json.insert(0, list_orig_y)\n",
    "\n",
    "        result = least_squares(recover_GO_pos, xy_initial)\n",
    "        err_go = calc_recored_go_pos_err(x_original,result.x)\n",
    "\n",
    "        list_goerror.append(err_go)\n",
    "        \n",
    "    avg_err_go = np.mean(list_goerror)\n",
    "    sd_rec_calc_gopos = np.std(list_goerror) # sd of rec go obj pos\n",
    "    std_err_calc_gopos = sem(list_goerror)   # std dev of rec go obj pos = sd/sqrt(n-1)\n",
    "    df_results_lshape.loc[ite-1] = [noise_sd, avg_err_go, sd_rec_calc_gopos,std_err_calc_gopos]\n",
    "\n",
    "print(\"--- %s seconds ---\" % (time.time() - start_time))      \n"
   ]
  },
  {
   "cell_type": "markdown",
   "metadata": {},
   "source": [
    "## Plot the regression line for Uncertainty in drone pos vs Uncertainty in object position"
   ]
  },
  {
   "cell_type": "code",
   "execution_count": 37,
   "metadata": {},
   "outputs": [
    {
     "data": {
      "image/png": "[encoded data removed]",
      "text/plain": [
       "<Figure size 864x864 with 1 Axes>"
      ]
     },
     "metadata": {
      "needs_background": "light"
     },
     "output_type": "display_data"
    }
   ],
   "source": [
    "plt.rcParams.update({'font.size': 15})\n",
    "regr = linear_model.LinearRegression()    \n",
    "regr.fit(df_results3[['uncer_dp'] ],df_results3[['uncer_rec_go']])  \n",
    "ax = df_results3.plot(kind=\"scatter\", x=\"uncer_dp\",y=\"uncer_rec_go\", color=\"orange\", label=\"drone_count=3, Random config\",figsize=(12, 12),s=30)\n",
    "ax.errorbar(df_results3['uncer_dp'] ,df_results3['uncer_rec_go'], yerr=df_results3['std_err_rec_go_pos'], fmt='.', color=\"grey\",elinewidth=1)\n",
    "plt.plot   (df_results3[['uncer_dp'] ], regr.predict(df_results3[['uncer_dp'] ]), color='orange', linewidth=1)\n",
    "\n",
    "regr = linear_model.LinearRegression()    \n",
    "regr.fit(df_results_lshape[['uncer_dp'] ],df_results_lshape[['uncer_rec_go']])  \n",
    "ax=df_results_lshape.plot(kind=\"scatter\", x=\"uncer_dp\",y=\"uncer_rec_go\", color=\"green\", label=\"drone_count=3,L-shape\", ax=ax,s=30)\n",
    "ax.errorbar(df_results_lshape['uncer_dp'] ,df_results_lshape['uncer_rec_go'], yerr=df_results_lshape['std_err_rec_go_pos'], fmt='|', color=\"black\",elinewidth=1)\n",
    "plt.plot   (df_results_lshape[['uncer_dp'] ], regr.predict(df_results_lshape[['uncer_dp'] ]), color='green', linewidth=1)\n",
    "\n",
    "ax.set_xlabel(\"Uncertainity in drone position\")\n",
    "ax.set_ylabel(\"Uncertainity in recovered ground object position\")\n",
    "plt.show()"
   ]
  },
  {
   "cell_type": "markdown",
   "metadata": {},
   "source": [
    "# Print the uncertainty in ground object position for delta=0.5"
   ]
  },
  {
   "cell_type": "code",
   "execution_count": 39,
   "metadata": {},
   "outputs": [
    {
     "data": {
      "text/plain": [
       "uncer_dp              0.500000\n",
       "uncer_rec_go          1.659278\n",
       "sd_rec_go_pos         1.428897\n",
       "std_err_rec_go_pos    0.101292\n",
       "Name: 50, dtype: float64"
      ]
     },
     "execution_count": 39,
     "metadata": {},
     "output_type": "execute_result"
    }
   ],
   "source": [
    "df_results3.iloc[50] # Random flight config"
   ]
  },
  {
   "cell_type": "code",
   "execution_count": 40,
   "metadata": {},
   "outputs": [
    {
     "data": {
      "text/plain": [
       "uncer_dp              0.500000\n",
       "uncer_rec_go          1.299070\n",
       "sd_rec_go_pos         0.776684\n",
       "std_err_rec_go_pos    0.055058\n",
       "Name: 50, dtype: float64"
      ]
     },
     "execution_count": 40,
     "metadata": {},
     "output_type": "execute_result"
    }
   ],
   "source": [
    "df_results_lshape.iloc[50] # L-shaped config"
   ]
  },
  {
   "cell_type": "code",
   "execution_count": null,
   "metadata": {},
   "outputs": [],
   "source": []
  }
 ],
 "metadata": {
  "kernelspec": {
   "display_name": "Python 3",
   "language": "python",
   "name": "python3"
  },
  "language_info": {
   "codemirror_mode": {
    "name": "ipython",
    "version": 3
   },
   "file_extension": ".py",
   "mimetype": "text/x-python",
   "name": "python",
   "nbconvert_exporter": "python",
   "pygments_lexer": "ipython3",
   "version": "3.8.5"
  }
 },
 "nbformat": 4,
 "nbformat_minor": 4
}

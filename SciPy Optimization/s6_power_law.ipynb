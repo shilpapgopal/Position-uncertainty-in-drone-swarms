{
 "cells": [
  {
   "cell_type": "markdown",
   "metadata": {},
   "source": [
    "## Scenario6 - Study Optimal drone count"
   ]
  },
  {
   "cell_type": "code",
   "execution_count": 25,
   "metadata": {},
   "outputs": [],
   "source": [
    "from scipy.optimize import least_squares\n",
    "import numpy as np\n",
    "import time\n",
    "from pandas import DataFrame\n",
    "import math\n",
    "import pandas as pd\n",
    "import seaborn as sns\n",
    "import matplotlib.pyplot as plt\n",
    "import plotly.express as px\n",
    "from scipy.stats import sem\n",
    "from sklearn import  linear_model\n",
    "import ast\n",
    "from scipy.optimize import curve_fit\n",
    "import time\n",
    "import random"
   ]
  },
  {
   "cell_type": "markdown",
   "metadata": {},
   "source": [
    "# Util methods"
   ]
  },
  {
   "cell_type": "markdown",
   "metadata": {},
   "source": [
    "### Method to generate drone position required for simulation"
   ]
  },
  {
   "cell_type": "code",
   "execution_count": 5,
   "metadata": {},
   "outputs": [],
   "source": [
    "def fun_generate_drone_pos(drone_count):\n",
    "    lpos = []\n",
    "    for i in range(drone_count):\n",
    "        xy=np.random.uniform(-10,10,2)\n",
    "        x=xy[0]\n",
    "        y=xy[1]\n",
    "        z=np.random.uniform(2,7,1)[0]\n",
    "        lpos.append(x)\n",
    "        lpos.append(y)\n",
    "        lpos.append(z)\n",
    "    return (np.asarray(lpos).reshape(1,drone_count, 3))"
   ]
  },
  {
   "cell_type": "markdown",
   "metadata": {},
   "source": [
    "### Calculate the time-of-flight data with the actual drone position and ground object location"
   ]
  },
  {
   "cell_type": "code",
   "execution_count": 7,
   "metadata": {},
   "outputs": [],
   "source": [
    "def calc_timelags_noisedp(n, dp_orig, dp_noise):\n",
    "    json_loc = {}\n",
    "    list_orig_y = []\n",
    "    json1 = {}\n",
    "    for i in range(n):\n",
    "        for k in range(i, n):\n",
    "            outer = i + 1\n",
    "            inner = k + 1\n",
    "            key = \"\" + str(outer) +\"_\"+ str(inner)\n",
    "\n",
    "            if(i==k):\n",
    "                val=  math.sqrt(sum((x_original-dp_orig[0][i])**2)) * 2 \n",
    "                pos1 = dp_noise[0][i]\n",
    "                pos2 = \"\"\n",
    "                #print(key, \" \", val)\n",
    "            else: \n",
    "                #print(key , \",\", \"i = \", i, \"k=\", k)\n",
    "                val = math.sqrt(sum((x_original-dp_orig[0][outer-1])**2)) + math.sqrt(sum((x_original-dp_orig[0][inner-1])**2))\n",
    "                pos1 = dp_noise[0][outer-1]\n",
    "                pos2 = dp_noise[0][inner-1]\n",
    "                #print(key, \" \", val)\n",
    "            \n",
    "            json11 = {key: val, \"pos1\":pos1, \"pos2\":pos2 }\n",
    "            json1.update(json11)\n",
    "            list_orig_y.append(json11)\n",
    "            #json.append(json1)\n",
    "\n",
    "    #print(json1)\n",
    "    return list_orig_y"
   ]
  },
  {
   "cell_type": "markdown",
   "metadata": {},
   "source": [
    "### Calculate the difference bw actual and recovered object location"
   ]
  },
  {
   "cell_type": "code",
   "execution_count": 8,
   "metadata": {},
   "outputs": [],
   "source": [
    "def calc_recored_go_pos_err(actual_go,recovered_go):\n",
    "    sq_diff=((actual_go-recovered_go)**2)\n",
    "    total_sum_go_err = np.sqrt(  sq_diff[0]) + np.sqrt( sq_diff[1]) + np.sqrt( sq_diff[2])\n",
    "    return total_sum_go_err"
   ]
  },
  {
   "cell_type": "markdown",
   "metadata": {},
   "source": [
    "### Objective function to recover the object location - the function takes input as initial guess of object location, drone coordinates, time-of-flight and LS method iteratively calls this function to minimize"
   ]
  },
  {
   "cell_type": "code",
   "execution_count": 9,
   "metadata": {},
   "outputs": [],
   "source": [
    "\n",
    "def recover_GO_pos(x ):\n",
    "    x[2]=0\n",
    "    list_orig_y = list_temp_json[0]\n",
    "    listval =[]\n",
    "\n",
    "    for json_y in list_orig_y:\n",
    "        c = 0\n",
    "        for key in json_y:\n",
    "            # execute the logic only once per json obj(there are 3 keys), c=0 controls this logic\n",
    "            if(c==0):\n",
    "                #print(\"json--\", json_y)\n",
    "                #print(\"key--\",key)\n",
    "                v = json_y[key]\n",
    "                #print(\"v===\",v)\n",
    "                k = key.split(\"_\")\n",
    "                k1 = k[0]\n",
    "                k2 = k[1]\n",
    "                \n",
    "                k1=k1.strip()\n",
    "                k1=int(k1)\n",
    "                \n",
    "                k2=k2.strip()\n",
    "                k2=int(k2)\n",
    "\n",
    "                if(k1==k2):\n",
    "                    val=  v - math.sqrt(sum((x-json_y[\"pos1\"])**2))* 2\n",
    "                    listval.append(val)\n",
    "                else:\n",
    "                    val = v - (math.sqrt(sum((x-json_y[\"pos1\"])**2)) + math.sqrt(sum((x-json_y[\"pos2\"])**2)))\n",
    "                    listval.append(val)\n",
    "                    \n",
    "            c = 1\n",
    "    #print(\"listval---\",listval)\n",
    "    an_array = np.array(listval)\n",
    "    an_array1 = an_array**2\n",
    "    loss = sum(an_array1)\n",
    "    #print(loss)\n",
    "    #print(\"loss---\",loss)\n",
    "    return np.array(loss)"
   ]
  },
  {
   "cell_type": "markdown",
   "metadata": {},
   "source": [
    "### Function to add noise to drone position"
   ]
  },
  {
   "cell_type": "code",
   "execution_count": 10,
   "metadata": {},
   "outputs": [],
   "source": [
    "def addnoise_to_drone_pos(dp_orig, sd):\n",
    "    noise = np.random.normal(0, sd, dp_orig.shape)\n",
    "    dp_noise = dp_orig + noise\n",
    "    return dp_noise"
   ]
  },
  {
   "cell_type": "markdown",
   "metadata": {},
   "source": [
    "### Variable initilization"
   ]
  },
  {
   "cell_type": "code",
   "execution_count": 12,
   "metadata": {},
   "outputs": [],
   "source": [
    "x_original=np.array([2.8,2.2,0])\n",
    "xy_initial = np.array([0,0,0]) "
   ]
  },
  {
   "cell_type": "markdown",
   "metadata": {},
   "source": [
    "# Invoke LS with different drone count for noise level 0.5"
   ]
  },
  {
   "cell_type": "code",
   "execution_count": 19,
   "metadata": {},
   "outputs": [
    {
     "name": "stdout",
     "output_type": "stream",
     "text": [
      "--- 357.70087814331055 seconds ---\n"
     ]
    },
    {
     "data": {
      "text/html": [
       "<div>\n",
       "<style scoped>\n",
       "    .dataframe tbody tr th:only-of-type {\n",
       "        vertical-align: middle;\n",
       "    }\n",
       "\n",
       "    .dataframe tbody tr th {\n",
       "        vertical-align: top;\n",
       "    }\n",
       "\n",
       "    .dataframe thead th {\n",
       "        text-align: right;\n",
       "    }\n",
       "</style>\n",
       "<table border=\"1\" class=\"dataframe\">\n",
       "  <thead>\n",
       "    <tr style=\"text-align: right;\">\n",
       "      <th></th>\n",
       "      <th>uncer_rec_go</th>\n",
       "      <th>std_err_rec_go_pos</th>\n",
       "      <th>drone_count</th>\n",
       "    </tr>\n",
       "  </thead>\n",
       "  <tbody>\n",
       "    <tr>\n",
       "      <th>0</th>\n",
       "      <td>1.226352</td>\n",
       "      <td>0.081570</td>\n",
       "      <td>3.0</td>\n",
       "    </tr>\n",
       "    <tr>\n",
       "      <th>1</th>\n",
       "      <td>0.914153</td>\n",
       "      <td>0.047996</td>\n",
       "      <td>4.0</td>\n",
       "    </tr>\n",
       "    <tr>\n",
       "      <th>2</th>\n",
       "      <td>0.710167</td>\n",
       "      <td>0.027743</td>\n",
       "      <td>5.0</td>\n",
       "    </tr>\n",
       "    <tr>\n",
       "      <th>3</th>\n",
       "      <td>0.608444</td>\n",
       "      <td>0.019691</td>\n",
       "      <td>6.0</td>\n",
       "    </tr>\n",
       "    <tr>\n",
       "      <th>4</th>\n",
       "      <td>0.590317</td>\n",
       "      <td>0.019270</td>\n",
       "      <td>7.0</td>\n",
       "    </tr>\n",
       "    <tr>\n",
       "      <th>5</th>\n",
       "      <td>0.556769</td>\n",
       "      <td>0.017550</td>\n",
       "      <td>8.0</td>\n",
       "    </tr>\n",
       "    <tr>\n",
       "      <th>6</th>\n",
       "      <td>0.481644</td>\n",
       "      <td>0.016531</td>\n",
       "      <td>9.0</td>\n",
       "    </tr>\n",
       "    <tr>\n",
       "      <th>7</th>\n",
       "      <td>0.471241</td>\n",
       "      <td>0.015413</td>\n",
       "      <td>10.0</td>\n",
       "    </tr>\n",
       "    <tr>\n",
       "      <th>8</th>\n",
       "      <td>0.450300</td>\n",
       "      <td>0.015695</td>\n",
       "      <td>11.0</td>\n",
       "    </tr>\n",
       "    <tr>\n",
       "      <th>9</th>\n",
       "      <td>0.420966</td>\n",
       "      <td>0.013476</td>\n",
       "      <td>12.0</td>\n",
       "    </tr>\n",
       "    <tr>\n",
       "      <th>10</th>\n",
       "      <td>0.421174</td>\n",
       "      <td>0.013608</td>\n",
       "      <td>13.0</td>\n",
       "    </tr>\n",
       "    <tr>\n",
       "      <th>11</th>\n",
       "      <td>0.380142</td>\n",
       "      <td>0.011873</td>\n",
       "      <td>14.0</td>\n",
       "    </tr>\n",
       "    <tr>\n",
       "      <th>12</th>\n",
       "      <td>0.368577</td>\n",
       "      <td>0.011345</td>\n",
       "      <td>15.0</td>\n",
       "    </tr>\n",
       "    <tr>\n",
       "      <th>13</th>\n",
       "      <td>0.375017</td>\n",
       "      <td>0.012512</td>\n",
       "      <td>16.0</td>\n",
       "    </tr>\n",
       "    <tr>\n",
       "      <th>14</th>\n",
       "      <td>0.338505</td>\n",
       "      <td>0.010326</td>\n",
       "      <td>17.0</td>\n",
       "    </tr>\n",
       "    <tr>\n",
       "      <th>15</th>\n",
       "      <td>0.335137</td>\n",
       "      <td>0.010827</td>\n",
       "      <td>18.0</td>\n",
       "    </tr>\n",
       "    <tr>\n",
       "      <th>16</th>\n",
       "      <td>0.321771</td>\n",
       "      <td>0.009901</td>\n",
       "      <td>19.0</td>\n",
       "    </tr>\n",
       "    <tr>\n",
       "      <th>17</th>\n",
       "      <td>0.327697</td>\n",
       "      <td>0.010314</td>\n",
       "      <td>20.0</td>\n",
       "    </tr>\n",
       "  </tbody>\n",
       "</table>\n",
       "</div>"
      ],
      "text/plain": [
       "    uncer_rec_go  std_err_rec_go_pos  drone_count\n",
       "0       1.226352            0.081570          3.0\n",
       "1       0.914153            0.047996          4.0\n",
       "2       0.710167            0.027743          5.0\n",
       "3       0.608444            0.019691          6.0\n",
       "4       0.590317            0.019270          7.0\n",
       "5       0.556769            0.017550          8.0\n",
       "6       0.481644            0.016531          9.0\n",
       "7       0.471241            0.015413         10.0\n",
       "8       0.450300            0.015695         11.0\n",
       "9       0.420966            0.013476         12.0\n",
       "10      0.421174            0.013608         13.0\n",
       "11      0.380142            0.011873         14.0\n",
       "12      0.368577            0.011345         15.0\n",
       "13      0.375017            0.012512         16.0\n",
       "14      0.338505            0.010326         17.0\n",
       "15      0.335137            0.010827         18.0\n",
       "16      0.321771            0.009901         19.0\n",
       "17      0.327697            0.010314         20.0"
      ]
     },
     "execution_count": 19,
     "metadata": {},
     "output_type": "execute_result"
    }
   ],
   "source": [
    "start_time = time.time()\n",
    "list_temp_json = []\n",
    "df_results = DataFrame(columns=[ 'uncer_rec_go', 'std_err_rec_go_pos', 'drone_count'])\n",
    "ite = 0\n",
    "noise_sd=0.5\n",
    "listdronecount = [3,4,5,6,7,8,9,10,11,12,13,14,15,16,17,18,19,20]\n",
    "\n",
    "for drone_count in listdronecount:\n",
    "    list_goerror = []\n",
    "    ite +=1\n",
    "    for iterations in range(300):\n",
    "        list_temp_json.clear()\n",
    "        dp_real = fun_generate_drone_pos(drone_count)\n",
    "        dp_noise = addnoise_to_drone_pos(dp_real,sd=noise_sd)\n",
    "        list_orig_y = calc_timelags_noisedp(drone_count,dp_real, dp_noise)\n",
    "        list_temp_json.insert(0, list_orig_y)\n",
    "\n",
    "        result = least_squares(recover_GO_pos, xy_initial)\n",
    "        err_go = calc_recored_go_pos_err(x_original,result.x)\n",
    "\n",
    "        list_goerror.append(err_go)\n",
    "        \n",
    "    avg_err_go = np.mean(list_goerror)\n",
    "    sd_rec_calc_gopos = np.std(list_goerror) # sd of rec go obj pos\n",
    "    std_err_calc_gopos = sem(list_goerror)   # std dev of rec go obj pos = sd/sqrt(n-1)\n",
    "    df_results.loc[ite-1] = [ avg_err_go,std_err_calc_gopos,drone_count]\n",
    "\n",
    "print(\"--- %s seconds ---\" % (time.time() - start_time))      \n",
    "df_results"
   ]
  },
  {
   "cell_type": "markdown",
   "metadata": {},
   "source": [
    "### Define Power Law function - for curve fitting"
   ]
  },
  {
   "cell_type": "code",
   "execution_count": 86,
   "metadata": {},
   "outputs": [],
   "source": [
    "def func_powerlaw(x, b, m):\n",
    "    #print(\"b=\",b, \"------\", \"m=\",m)\n",
    "    val = m * x**b \n",
    "    return  val"
   ]
  },
  {
   "cell_type": "markdown",
   "metadata": {},
   "source": [
    "### Fit a curve using SciPy's curve_fit method , Plot the curve"
   ]
  },
  {
   "cell_type": "code",
   "execution_count": 125,
   "metadata": {},
   "outputs": [
    {
     "name": "stdout",
     "output_type": "stream",
     "text": [
      "popt--- [-0.70710602  2.41454172]\n"
     ]
    },
    {
     "data": {
      "image/png": "[encoded data removed]",
      "text/plain": [
       "<Figure size 720x432 with 1 Axes>"
      ]
     },
     "metadata": {
      "needs_background": "light"
     },
     "output_type": "display_data"
    }
   ],
   "source": [
    "#x = df_final[[\"dronecount\"]]\n",
    "x=df_results.iloc[:,2].values\n",
    "#y = df_final[[\"uncer_rec_go\"]]\n",
    "y=df_results.iloc[:,0].values\n",
    "popt, pcov  = curve_fit(func_powerlaw, x, y, maxfev=2000 )\n",
    "print(\"popt---\",popt)\n",
    "plt.figure(figsize=(10, 6))\n",
    "b = popt[0]\n",
    "m = popt[1]\n",
    "plt.plot(x, func_powerlaw(x, *popt), '--', color='black')\n",
    "plt.plot(x, y, 'ro')\n",
    "\n",
    "#plt.loglog(x, func_powerlaw(x, *popt1), '--', color='blue')\n",
    "#plt.loglog(x, y, 'ro')\n",
    "plt.xlabel(\"Number of drones\",fontdict={'fontsize':15})\n",
    "plt.ylabel(\"Uncertainity in recovered object position\",fontdict={'fontsize':15})\n",
    "plt.title(\"2.41 *x^-0.7\",fontdict={'fontsize':15})\n",
    "plt.show()"
   ]
  },
  {
   "cell_type": "markdown",
   "metadata": {},
   "source": [
    "### Log Log plot of drone count vs Uncertainty"
   ]
  },
  {
   "cell_type": "code",
   "execution_count": 126,
   "metadata": {},
   "outputs": [
    {
     "data": {
      "text/plain": [
       "Text(0.5, 1.0, 'Log Log Plot')"
      ]
     },
     "execution_count": 126,
     "metadata": {},
     "output_type": "execute_result"
    },
    {
     "data": {
      "image/png": "[encoded data removed]",
      "text/plain": [
       "<Figure size 720x432 with 1 Axes>"
      ]
     },
     "metadata": {
      "needs_background": "light"
     },
     "output_type": "display_data"
    }
   ],
   "source": [
    "logy = func_powerlaw(x, b=-0.70710602, m=2.41454172)\n",
    "plt.figure(figsize=(10, 6))\n",
    "plt.loglog(x, y)\n",
    "plt.scatter(x, logy,color=\"red\")\n",
    "plt.xlabel(\"Number of drones\",fontdict={'fontsize':15})\n",
    "plt.ylabel(\"Uncertainity in recovered object position\",fontdict={'fontsize':15})\n",
    "plt.title(\"Log Log Plot\",fontdict={'fontsize':15})"
   ]
  },
  {
   "cell_type": "code",
   "execution_count": null,
   "metadata": {},
   "outputs": [],
   "source": []
  },
  {
   "cell_type": "markdown",
   "metadata": {},
   "source": [
    "# Invalid Code"
   ]
  },
  {
   "cell_type": "code",
   "execution_count": 100,
   "metadata": {},
   "outputs": [
    {
     "name": "stdout",
     "output_type": "stream",
     "text": [
      "c-- [-2.25690316         nan         nan         nan         nan         nan\n",
      "         nan         nan         nan         nan         nan         nan\n",
      "         nan         nan         nan         nan         nan         nan]\n",
      "y-- [1.15715449 0.8979621  0.74842083 0.66381149 0.59148508 0.50055\n",
      " 0.47562891 0.44616076 0.44833351 0.43631795 0.41925125 0.37192556\n",
      " 0.38435699 0.3669924  0.34918969 0.31966962 0.32018894 0.30237214]\n",
      "coeff-- [-0.66166789  0.34137526]\n"
     ]
    },
    {
     "name": "stderr",
     "output_type": "stream",
     "text": [
      "<ipython-input-100-0ba9ba26fbaf>:15: RuntimeWarning: invalid value encountered in log\n",
      "  print(\"c--\",np.log(c))\n"
     ]
    },
    {
     "data": {
      "text/plain": [
       "Text(0, 0.5, 'Uncertainity in recovered object position')"
      ]
     },
     "execution_count": 100,
     "metadata": {},
     "output_type": "execute_result"
    },
    {
     "data": {
      "image/png": "[encoded data removed]",
      "text/plain": [
       "<Figure size 720x504 with 1 Axes>"
      ]
     },
     "metadata": {
      "needs_background": "light"
     },
     "output_type": "display_data"
    }
   ],
   "source": [
    "# Linear power law\n",
    "def func_powerlaw_linear(x, b, m):\n",
    "    k=b * np.log(x) + np.log(m)\n",
    "    return k \n",
    "\n",
    "plt.figure(figsize=(10, 7))\n",
    "x=df_results.iloc[:,2].values\n",
    "y=df_results.iloc[:,0].values\n",
    "\n",
    "coefficients = np.polyfit(np.log10(x), np.log10(y), 1)\n",
    "b=-0.70710602\n",
    "m=2.41454172\n",
    "\n",
    "c = func_powerlaw_linear(x, b ,m )\n",
    "print(\"c--\",np.log(c))\n",
    "print(\"y--\",(y))\n",
    "print(\"coeff--\",coefficients)\n",
    "polynomial = np.poly1d(coefficients)\n",
    "log10_y_fit = polynomial(np.log10(x))  # <-- Changed\n",
    "\n",
    "plt.scatter(x, y,color=\"red\")\n",
    "#plt.plot(x, 10**log10_y_fit, '*-')     # <-- Changed\n",
    "plt.plot(x, 10**log10_y_fit, '*-')  \n",
    "plt.yscale('log')\n",
    "plt.xscale('log')\n",
    "plt.xlabel(\"Number of drones\")\n",
    "plt.ylabel(\"Uncertainity in recovered object position\")"
   ]
  },
  {
   "cell_type": "code",
   "execution_count": 34,
   "metadata": {},
   "outputs": [],
   "source": [
    "import powerlaw"
   ]
  },
  {
   "cell_type": "code",
   "execution_count": 65,
   "metadata": {},
   "outputs": [
    {
     "name": "stdout",
     "output_type": "stream",
     "text": [
      "Calculating best minimal value for power law fit\n",
      "xmin progress: 00%\r",
      "xmin progress: 05%\r",
      "xmin progress: 11%\r",
      "xmin progress: 17%\r",
      "xmin progress: 23%\r",
      "xmin progress: 29%\r",
      "xmin progress: 35%\r",
      "xmin progress: 41%\r",
      "xmin progress: 47%\r",
      "xmin progress: 52%\r",
      "xmin progress: 58%\r",
      "xmin progress: 64%\r",
      "xmin progress: 70%\r",
      "xmin progress: 76%\r",
      "xmin progress: 82%\r",
      "xmin progress: 88%\r",
      "xmin progress: 94%\r",
      "3.714924246628152\n",
      "0.7255940258519931\n"
     ]
    },
    {
     "data": {
      "text/plain": [
       "(0.1791859451111325, 0.8379674198188942)"
      ]
     },
     "execution_count": 65,
     "metadata": {},
     "output_type": "execute_result"
    }
   ],
   "source": [
    "\n",
    "fit = powerlaw.Fit(df_results.iloc[:,0].values)\n",
    "print(fit.power_law.alpha)\n",
    "print(fit.power_law.sigma)\n",
    "fit.distribution_compare('power_law', 'exponential')"
   ]
  },
  {
   "cell_type": "code",
   "execution_count": 36,
   "metadata": {},
   "outputs": [],
   "source": [
    "# from networkx.utils import powerlaw_sequence\n",
    "# pl_sequence = powerlaw_sequence(1000,exponent=2.5)\n",
    "# fitted_pl = powerlaw.Fit(pl_sequence)\n",
    "\n",
    "# fitted_pl.alpha"
   ]
  },
  {
   "cell_type": "code",
   "execution_count": null,
   "metadata": {},
   "outputs": [],
   "source": []
  },
  {
   "cell_type": "code",
   "execution_count": 70,
   "metadata": {},
   "outputs": [
    {
     "name": "stdout",
     "output_type": "stream",
     "text": [
      "Calculating best minimal value for power law fit\n",
      "xmin progress: 00%\r",
      "xmin progress: 05%\r",
      "xmin progress: 10%\r",
      "xmin progress: 15%\r",
      "xmin progress: 21%\r",
      "xmin progress: 26%\r",
      "xmin progress: 31%\r",
      "xmin progress: 36%\r",
      "xmin progress: 42%\r",
      "xmin progress: 47%\r",
      "xmin progress: 52%\r",
      "xmin progress: 57%\r",
      "xmin progress: 63%\r",
      "xmin progress: 68%\r",
      "xmin progress: 73%\r",
      "xmin progress: 78%\r",
      "xmin progress: 84%\r",
      "xmin progress: 89%\r",
      "xmin progress: 94%\r"
     ]
    },
    {
     "data": {
      "text/plain": [
       "4.96384551633064"
      ]
     },
     "execution_count": 70,
     "metadata": {},
     "output_type": "execute_result"
    }
   ],
   "source": [
    "pl_sequence = powerlaw_sequence(20,exponent=3.373078223462273)\n",
    "pl_sequence\n",
    "fitted_pl = powerlaw.Fit(pl_sequence)\n",
    "fitted_pl.alpha"
   ]
  },
  {
   "cell_type": "code",
   "execution_count": 83,
   "metadata": {},
   "outputs": [
    {
     "data": {
      "text/plain": [
       "[1.212518100608334,\n",
       " 1.07602196477784,\n",
       " 2.053358587827593,\n",
       " 1.7569311722241934,\n",
       " 1.1946218849647716,\n",
       " 1.103349474918328,\n",
       " 1.6901352851350246,\n",
       " 1.0152032389251129,\n",
       " 1.4647224199445306,\n",
       " 1.1416286661997301,\n",
       " 1.004583770895459,\n",
       " 1.8363039330650388,\n",
       " 1.1443367164812273,\n",
       " 1.1014629567560272,\n",
       " 1.0895878915338884,\n",
       " 1.3002158697851995,\n",
       " 1.3340252323560247,\n",
       " 1.7847367385672857,\n",
       " 1.0574110774658596,\n",
       " 1.1530823523669531]"
      ]
     },
     "execution_count": 83,
     "metadata": {},
     "output_type": "execute_result"
    }
   ],
   "source": [
    "pl_sequence"
   ]
  },
  {
   "cell_type": "code",
   "execution_count": 66,
   "metadata": {},
   "outputs": [
    {
     "data": {
      "text/plain": [
       "array([1.15715449, 0.8979621 , 0.74842083, 0.66381149, 0.59148508,\n",
       "       0.50055   , 0.47562891, 0.44616076, 0.44833351, 0.43631795,\n",
       "       0.41925125, 0.37192556, 0.38435699, 0.3669924 , 0.34918969,\n",
       "       0.31966962, 0.32018894, 0.30237214])"
      ]
     },
     "execution_count": 66,
     "metadata": {},
     "output_type": "execute_result"
    }
   ],
   "source": [
    "df_results.iloc[:,0].values"
   ]
  },
  {
   "cell_type": "code",
   "execution_count": 69,
   "metadata": {},
   "outputs": [
    {
     "data": {
      "text/plain": [
       "<matplotlib.collections.PathCollection at 0x1ae888eeac0>"
      ]
     },
     "execution_count": 69,
     "metadata": {},
     "output_type": "execute_result"
    },
    {
     "data": {
      "image/png": "[encoded data removed]",
      "text/plain": [
       "<Figure size 432x288 with 1 Axes>"
      ]
     },
     "metadata": {
      "needs_background": "light"
     },
     "output_type": "display_data"
    }
   ],
   "source": [
    "powerlaw.plot_pdf(df_results.iloc[:,0].values)\n",
    "plt.scatter(np.log(x), np.log(y),color=\"red\")"
   ]
  },
  {
   "cell_type": "code",
   "execution_count": null,
   "metadata": {},
   "outputs": [],
   "source": []
  }
 ],
 "metadata": {
  "kernelspec": {
   "display_name": "Python 3",
   "language": "python",
   "name": "python3"
  },
  "language_info": {
   "codemirror_mode": {
    "name": "ipython",
    "version": 3
   },
   "file_extension": ".py",
   "mimetype": "text/x-python",
   "name": "python",
   "nbconvert_exporter": "python",
   "pygments_lexer": "ipython3",
   "version": "3.8.5"
  }
 },
 "nbformat": 4,
 "nbformat_minor": 4
}

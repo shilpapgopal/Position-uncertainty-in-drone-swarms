{
 "cells": [
  {
   "cell_type": "markdown",
   "metadata": {},
   "source": [
    "## Scenario1 - Recover object location for single record using SciPy Least Square"
   ]
  },
  {
   "cell_type": "code",
   "execution_count": 3,
   "metadata": {},
   "outputs": [],
   "source": [
    "from scipy.optimize import least_squares\n",
    "import numpy as np\n",
    "import time\n",
    "import math"
   ]
  },
  {
   "cell_type": "markdown",
   "metadata": {},
   "source": [
    "### Objective function to minimize"
   ]
  },
  {
   "cell_type": "code",
   "execution_count": 22,
   "metadata": {},
   "outputs": [],
   "source": [
    "# function to reduce\n",
    "def objectivefun_recoverlocation(x,timemeasures, dp1, dp2, dp3 ): \n",
    "    # x is the minimized object location\n",
    "    x[2]=0\n",
    "    \n",
    "    # Calculate the error between actual and calculated\n",
    "    L12 = timemeasures[0] - (math.sqrt(sum((x-dp1)**2)) + math.sqrt(sum((x-dp2)**2))) # t12\n",
    "    L13 = timemeasures[1] - (math.sqrt(sum((x-dp1)**2)) + math.sqrt(sum((x-dp3)**2))) # t13\n",
    "    L23 = timemeasures[2] - (math.sqrt(sum((x-dp2)**2)) + math.sqrt(sum((x-dp3)**2))) # t23\n",
    "    \n",
    "    L11 = timemeasures[3] - math.sqrt(sum((x-dp1)**2)) * 2  # t11\n",
    "    L22 = timemeasures[4] - math.sqrt(sum((x-dp2)**2)) * 2  # t22\n",
    "    L33 = timemeasures[5] - math.sqrt(sum((x-dp3)**2)) * 2  # t33\n",
    "    \n",
    "    # Sum all the individual distance errors - Squared error\n",
    "    loss = L12**2 + L12**2 + L23**2 + L11**2 + L22**2 + L33**2   \n",
    "    \n",
    "    return np.array(loss)"
   ]
  },
  {
   "cell_type": "markdown",
   "metadata": {},
   "source": [
    "### Variable initilization"
   ]
  },
  {
   "cell_type": "code",
   "execution_count": 23,
   "metadata": {},
   "outputs": [],
   "source": [
    "# Data initilization\n",
    "dp1=np.array([4.3,4.3,0.8])  # drone 1 location \n",
    "dp2=np.array([2.4,-1.2,5.4]) # drone 2 location \n",
    "dp3=np.array([6.9,0.1,4.7])  # drone 3 location \n",
    "\n",
    "x0=np.array([2.8,2.2,0]) # Actual Ground object loccation\n",
    "\n",
    "timemeasures = [9.095598162479572,9.282884570730419,12.974780298767472,\n",
    "                5.403702434442518,12.787493890516625,13.162066707018319] # Observed drone time measurements\n",
    "# t12,t13, t23, t11, t22,t33"
   ]
  },
  {
   "cell_type": "markdown",
   "metadata": {},
   "source": [
    "### Invoke LS method"
   ]
  },
  {
   "cell_type": "code",
   "execution_count": 28,
   "metadata": {},
   "outputs": [
    {
     "name": "stdout",
     "output_type": "stream",
     "text": [
      "   Iteration     Total nfev        Cost      Cost reduction    Step norm     Optimality   \n",
      "       0              1         3.2754e+03                                    3.78e+03    \n",
      "       1              2         7.3734e+02      2.54e+03       1.00e+00       1.04e+03    \n",
      "       2              3         2.3336e+00      7.35e+02       2.00e+00       1.28e+01    \n",
      "       3              5         2.1506e-01      2.12e+00       1.00e+00       2.14e+00    \n",
      "       4              6         1.6187e-03      2.13e-01       2.50e-01       5.19e-02    \n",
      "       5              8         2.9438e-06      1.62e-03       1.25e-01       5.18e-04    \n",
      "       6              9         1.2392e-07      2.82e-06       3.12e-02       4.42e-05    \n",
      "       7             10         2.0199e-10      1.24e-07       7.81e-03       3.43e-07    \n",
      "       8             12         1.9371e-10      8.28e-12       3.91e-03       3.51e-07    \n",
      "       9             13         1.1827e-11      1.82e-10       9.77e-04       4.29e-08    \n",
      "      10             15         7.0580e-13      1.11e-11       4.88e-04       5.14e-09    \n",
      "`gtol` termination condition is satisfied.\n",
      "Function evaluations 15, initial cost 3.2754e+03, final cost 7.0580e-13, first-order optimality 5.14e-09.\n"
     ]
    },
    {
     "data": {
      "text/plain": [
       " active_mask: array([0., 0., 0.])\n",
       "        cost: 7.057991669309619e-13\n",
       "         fun: array([1.18810704e-06])\n",
       "        grad: array([-2.92936626e-09, -5.13866569e-09,  0.00000000e+00])\n",
       "         jac: array([[-0.00246557, -0.00432509,  0.        ]])\n",
       "     message: '`gtol` termination condition is satisfied.'\n",
       "        nfev: 15\n",
       "        njev: 11\n",
       "  optimality: 5.138665691509575e-09\n",
       "      status: 1\n",
       "     success: True\n",
       "           x: array([2.79975146, 2.19959231, 0.        ])"
      ]
     },
     "execution_count": 28,
     "metadata": {},
     "output_type": "execute_result"
    }
   ],
   "source": [
    "xy_initial = np.array([0,0,0])  # Initial Guess\n",
    "\n",
    "# Call the Scipy least square method with objective function, initial guess, time measures, drone positions (dp)\n",
    "result = least_squares(objectivefun_recoverlocation, xy_initial, args=(timemeasures, dp1, dp2, dp3), method='trf',  verbose=2)\n",
    "result"
   ]
  },
  {
   "cell_type": "code",
   "execution_count": 30,
   "metadata": {},
   "outputs": [
    {
     "data": {
      "text/plain": [
       "0.00065623"
      ]
     },
     "execution_count": 30,
     "metadata": {},
     "output_type": "execute_result"
    }
   ],
   "source": [
    "np.sqrt(0.00024854**2) + np.sqrt(0.00040769**2)"
   ]
  },
  {
   "cell_type": "code",
   "execution_count": 32,
   "metadata": {},
   "outputs": [
    {
     "data": {
      "text/plain": [
       "0.00047747593415794267"
      ]
     },
     "execution_count": 32,
     "metadata": {},
     "output_type": "execute_result"
    }
   ],
   "source": [
    "np.sqrt(0.00024854**2+0.00040769**2)"
   ]
  },
  {
   "cell_type": "code",
   "execution_count": 25,
   "metadata": {},
   "outputs": [
    {
     "data": {
      "text/plain": [
       "0.00040769000000029365"
      ]
     },
     "execution_count": 25,
     "metadata": {},
     "output_type": "execute_result"
    }
   ],
   "source": [
    "2.2 - 2.19959231"
   ]
  },
  {
   "cell_type": "code",
   "execution_count": null,
   "metadata": {},
   "outputs": [],
   "source": []
  }
 ],
 "metadata": {
  "kernelspec": {
   "display_name": "Python 3",
   "language": "python",
   "name": "python3"
  },
  "language_info": {
   "codemirror_mode": {
    "name": "ipython",
    "version": 3
   },
   "file_extension": ".py",
   "mimetype": "text/x-python",
   "name": "python",
   "nbconvert_exporter": "python",
   "pygments_lexer": "ipython3",
   "version": "3.8.5"
  }
 },
 "nbformat": 4,
 "nbformat_minor": 4
}

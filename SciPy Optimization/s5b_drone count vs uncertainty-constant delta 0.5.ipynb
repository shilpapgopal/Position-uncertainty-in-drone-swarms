{
 "cells": [
  {
   "cell_type": "markdown",
   "metadata": {},
   "source": [
    "## Scenario6 - drone count vs uncertainty-constant delta 0.5 - To dcoument the uncertainity in a table"
   ]
  },
  {
   "cell_type": "code",
   "execution_count": 11,
   "metadata": {},
   "outputs": [],
   "source": [
    "from scipy.optimize import least_squares\n",
    "import numpy as np\n",
    "import time\n",
    "from pandas import DataFrame\n",
    "import math\n",
    "import pandas as pd\n",
    "import seaborn as sns\n",
    "import matplotlib.pyplot as plt\n",
    "import plotly.express as px\n",
    "from scipy.stats import sem"
   ]
  },
  {
   "cell_type": "markdown",
   "metadata": {},
   "source": [
    "### Method to generate drone position required for simulation"
   ]
  },
  {
   "cell_type": "code",
   "execution_count": 12,
   "metadata": {},
   "outputs": [],
   "source": [
    "def fun_generate_drone_pos(drone_count):\n",
    "    lpos = []\n",
    "    for i in range(drone_count):\n",
    "        xy=np.random.uniform(-10,10,2)\n",
    "        x=xy[0]\n",
    "        y=xy[1]\n",
    "        z=np.random.uniform(2,7,1)[0]\n",
    "        lpos.append(x)\n",
    "        lpos.append(y)\n",
    "        lpos.append(z)\n",
    "    #print(lpos)\n",
    "    return (np.asarray(lpos).reshape(1,drone_count, 3))\n",
    "#fun_generate_drone_pos()"
   ]
  },
  {
   "cell_type": "markdown",
   "metadata": {},
   "source": [
    "### Calculate the time-of-flight data with the actual drone position and ground object location"
   ]
  },
  {
   "cell_type": "code",
   "execution_count": 13,
   "metadata": {},
   "outputs": [],
   "source": [
    "def calc_timelags_noisedp(n, dp_orig, dp_noise):\n",
    "    json_loc = {}\n",
    "    list_orig_y = []\n",
    "    json1 = {}\n",
    "    for i in range(n):\n",
    "        for k in range(i, n):\n",
    "            outer = i + 1\n",
    "            inner = k + 1\n",
    "            key = \"\" + str(outer) +\"_\"+ str(inner)\n",
    "\n",
    "            if(i==k):\n",
    "                val=  math.sqrt(sum((x_original-dp_orig[0][i])**2)) * 2 \n",
    "                pos1 = dp_noise[0][i]\n",
    "                pos2 = \"\"\n",
    "                #print(key, \" \", val)\n",
    "            else: \n",
    "                #print(key , \",\", \"i = \", i, \"k=\", k)\n",
    "                val = math.sqrt(sum((x_original-dp_orig[0][outer-1])**2)) + math.sqrt(sum((x_original-dp_orig[0][inner-1])**2))\n",
    "                pos1 = dp_noise[0][outer-1]\n",
    "                pos2 = dp_noise[0][inner-1]\n",
    "                #print(key, \" \", val)\n",
    "            \n",
    "            json11 = {key: val, \"pos1\":pos1, \"pos2\":pos2 }\n",
    "            json1.update(json11)\n",
    "            list_orig_y.append(json11)\n",
    "            #json.append(json1)\n",
    "\n",
    "    #print(json1)\n",
    "    return list_orig_y\n",
    "    \n",
    "#y = [9.095598162479572,9.282884570730419,12.974780298767472,5.403702434442518,12.787493890516625,13.162066707018319]"
   ]
  },
  {
   "cell_type": "markdown",
   "metadata": {},
   "source": [
    "### Calculate the difference bw actual and recovered object location"
   ]
  },
  {
   "cell_type": "code",
   "execution_count": 14,
   "metadata": {},
   "outputs": [],
   "source": [
    "def calc_recored_go_pos_err(actual_go,recovered_go):\n",
    "    sq_diff=((actual_go-recovered_go)**2)\n",
    "    total_sum_go_err = np.sqrt(  sq_diff[0]) + np.sqrt( sq_diff[1]) + np.sqrt( sq_diff[2])\n",
    "    return total_sum_go_err"
   ]
  },
  {
   "cell_type": "markdown",
   "metadata": {},
   "source": [
    "### Objective function to recover the object location - the function takes input as initial guess of object location, drone coordinates, time-of-flight and LS method iteratively calls this function to minimize"
   ]
  },
  {
   "cell_type": "code",
   "execution_count": 15,
   "metadata": {},
   "outputs": [],
   "source": [
    "def recover_GO_pos(x ):\n",
    "\n",
    "    x[2]=0\n",
    "    #print(\"hi--\")\n",
    "    list_orig_y = list_temp_json[0]\n",
    "    #print((list_orig_y))\n",
    "    listval =[]\n",
    "\n",
    "    for json_y in list_orig_y:\n",
    "        c = 0\n",
    "        for key in json_y:\n",
    "            # execute the logic only once per json obj(there are 3 keys), c=0 controls this logic\n",
    "            if(c==0):\n",
    "                #print(\"json--\", json_y)\n",
    "                #print(\"key--\",key)\n",
    "                v = json_y[key]\n",
    "                #print(\"v===\",v)\n",
    "                k = key.split(\"_\")\n",
    "                k1 = k[0]\n",
    "                k2 = k[1]\n",
    "                \n",
    "                k1=k1.strip()\n",
    "                k1=int(k1)\n",
    "                \n",
    "                k2=k2.strip()\n",
    "                k2=int(k2)\n",
    "\n",
    "                if(k1==k2):\n",
    "                    val=  v - math.sqrt(sum((x-json_y[\"pos1\"])**2))* 2\n",
    "                    listval.append(val)\n",
    "                else:\n",
    "                    val = v - (math.sqrt(sum((x-json_y[\"pos1\"])**2)) + math.sqrt(sum((x-json_y[\"pos2\"])**2)))\n",
    "                    listval.append(val)\n",
    "                    \n",
    "            c = 1\n",
    "    #print(\"listval---\",listval)\n",
    "    an_array = np.array(listval)\n",
    "    an_array1 = an_array**2\n",
    "    loss = sum(an_array1)\n",
    "    #print(loss)\n",
    "    #print(\"loss---\",loss)\n",
    "    return np.array(loss)\n"
   ]
  },
  {
   "cell_type": "markdown",
   "metadata": {},
   "source": [
    "### Function to add noise to drone position"
   ]
  },
  {
   "cell_type": "code",
   "execution_count": 16,
   "metadata": {},
   "outputs": [],
   "source": [
    "def addnoise_to_drone_pos(dp_orig, sd):\n",
    "    #d_pos=np.array([[[4.3,4.3,0.8],[2.4,-1.2,5.4],[6.9,0.1,4.7]]])\n",
    "    noise = np.random.normal(0, sd, dp_orig.shape)\n",
    "    #print(noise)\n",
    "    dp_noise = dp_orig + noise\n",
    "    #d_pos=np.array([[[4.4,4.4,0.9],[2.4,-1.2,5.4],[6.9,0.1,4.7]]])\n",
    "    return dp_noise\n",
    "    #print(d_pos)  "
   ]
  },
  {
   "cell_type": "markdown",
   "metadata": {},
   "source": [
    "### Variable initilization"
   ]
  },
  {
   "cell_type": "code",
   "execution_count": 17,
   "metadata": {},
   "outputs": [],
   "source": [
    "x_original=np.array([2.8,2.2,0])\n",
    "xy_initial = np.array([0,0,0]) \n",
    "arr_noise_sd = [0.5]"
   ]
  },
  {
   "cell_type": "markdown",
   "metadata": {},
   "source": [
    "# Invoke LS with different drone count for noise level 0.5"
   ]
  },
  {
   "cell_type": "markdown",
   "metadata": {},
   "source": [
    "# Drone Count = 3"
   ]
  },
  {
   "cell_type": "code",
   "execution_count": 18,
   "metadata": {},
   "outputs": [
    {
     "name": "stdout",
     "output_type": "stream",
     "text": [
      "--- 7.10003662109375 seconds ---\n"
     ]
    }
   ],
   "source": [
    "drone_count=3\n",
    "start_time = time.time()\n",
    "\n",
    "list_temp_json = []\n",
    "\n",
    "df_results3 = DataFrame(columns=['uncer_dp', 'uncer_rec_go', 'sd_rec_go_pos', 'std_err_rec_go_pos'])\n",
    "ite = 0\n",
    "for noise_sd in arr_noise_sd:\n",
    "    list_goerror = []\n",
    "    ite +=1\n",
    "    for iterations in range(300):\n",
    "        list_temp_json.clear()\n",
    "        dp_real = fun_generate_drone_pos(drone_count)\n",
    "        dp_noise = addnoise_to_drone_pos(dp_real,sd=noise_sd)\n",
    "        list_orig_y = calc_timelags_noisedp(drone_count,dp_real, dp_noise)\n",
    "        list_temp_json.insert(0, list_orig_y)\n",
    "\n",
    "        result = least_squares(recover_GO_pos, xy_initial)\n",
    "        err_go = calc_recored_go_pos_err(x_original,result.x)\n",
    "\n",
    "        list_goerror.append(err_go)\n",
    "        \n",
    "    avg_err_go = np.mean(list_goerror)\n",
    "    sd_rec_calc_gopos = np.std(list_goerror) # sd of rec go obj pos\n",
    "    std_err_calc_gopos = sem(list_goerror)   # std dev of rec go obj pos = sd/sqrt(n-1)\n",
    "    df_results3.loc[ite-1] = [noise_sd, avg_err_go, sd_rec_calc_gopos,std_err_calc_gopos]\n",
    "\n",
    "print(\"--- %s seconds ---\" % (time.time() - start_time))      \n"
   ]
  },
  {
   "cell_type": "code",
   "execution_count": 21,
   "metadata": {},
   "outputs": [
    {
     "data": {
      "text/plain": [
       "1"
      ]
     },
     "execution_count": 21,
     "metadata": {},
     "output_type": "execute_result"
    }
   ],
   "source": [
    "len(list_temp_json)"
   ]
  },
  {
   "cell_type": "markdown",
   "metadata": {},
   "source": [
    "# Drone Count = 6"
   ]
  },
  {
   "cell_type": "code",
   "execution_count": 19,
   "metadata": {},
   "outputs": [
    {
     "name": "stdout",
     "output_type": "stream",
     "text": [
      "--- 8.385699272155762 seconds ---\n"
     ]
    }
   ],
   "source": [
    "drone_count=6\n",
    "start_time = time.time()\n",
    "\n",
    "list_temp_json = []\n",
    "\n",
    "df_results6 = DataFrame(columns=['uncer_dp', 'uncer_rec_go', 'sd_rec_go_pos', 'std_err_rec_go_pos'])\n",
    "ite = 0\n",
    "for noise_sd in arr_noise_sd:\n",
    "    list_goerror = []\n",
    "    ite +=1\n",
    "    for iterations in range(300):\n",
    "        list_temp_json.clear()\n",
    "        dp_real = fun_generate_drone_pos(drone_count)\n",
    "        dp_noise = addnoise_to_drone_pos(dp_real,sd=noise_sd)\n",
    "        list_orig_y = calc_timelags_noisedp(drone_count,dp_real, dp_noise)\n",
    "        list_temp_json.insert(0, list_orig_y)\n",
    "\n",
    "        result = least_squares(recover_GO_pos, xy_initial)\n",
    "        err_go = calc_recored_go_pos_err(x_original,result.x)\n",
    "\n",
    "        list_goerror.append(err_go)\n",
    "        \n",
    "    avg_err_go = np.mean(list_goerror)\n",
    "    sd_rec_calc_gopos = np.std(list_goerror) # sd of rec go obj pos\n",
    "    std_err_calc_gopos = sem(list_goerror)   # std dev of rec go obj pos = sd/sqrt(n-1)\n",
    "    df_results6.loc[ite-1] = [noise_sd, avg_err_go, sd_rec_calc_gopos,std_err_calc_gopos]\n",
    "\n",
    "print(\"--- %s seconds ---\" % (time.time() - start_time))      \n"
   ]
  },
  {
   "cell_type": "code",
   "execution_count": null,
   "metadata": {},
   "outputs": [],
   "source": []
  },
  {
   "cell_type": "markdown",
   "metadata": {},
   "source": [
    "# Drone Count = 9"
   ]
  },
  {
   "cell_type": "code",
   "execution_count": 20,
   "metadata": {},
   "outputs": [
    {
     "name": "stdout",
     "output_type": "stream",
     "text": [
      "--- 12.603575229644775 seconds ---\n"
     ]
    }
   ],
   "source": [
    "drone_count=9\n",
    "start_time = time.time()\n",
    "\n",
    "list_temp_json = []\n",
    "\n",
    "df_results9 = DataFrame(columns=['uncer_dp', 'uncer_rec_go', 'sd_rec_go_pos', 'std_err_rec_go_pos'])\n",
    "ite = 0\n",
    "for noise_sd in arr_noise_sd:\n",
    "    list_goerror = []\n",
    "    ite +=1\n",
    "    for iterations in range(300):\n",
    "        list_temp_json.clear()\n",
    "        dp_real = fun_generate_drone_pos(drone_count)\n",
    "        dp_noise = addnoise_to_drone_pos(dp_real,sd=noise_sd)\n",
    "        list_orig_y = calc_timelags_noisedp(drone_count,dp_real, dp_noise)\n",
    "        list_temp_json.insert(0, list_orig_y)\n",
    "\n",
    "        result = least_squares(recover_GO_pos, xy_initial)\n",
    "        err_go = calc_recored_go_pos_err(x_original,result.x)\n",
    "\n",
    "        list_goerror.append(err_go)\n",
    "        \n",
    "    avg_err_go = np.mean(list_goerror)\n",
    "    sd_rec_calc_gopos = np.std(list_goerror) # sd of rec go obj pos\n",
    "    std_err_calc_gopos = sem(list_goerror)   # std dev of rec go obj pos = sd/sqrt(n-1)\n",
    "    df_results9.loc[ite-1] = [noise_sd, avg_err_go, sd_rec_calc_gopos,std_err_calc_gopos]\n",
    "\n",
    "print(\"--- %s seconds ---\" % (time.time() - start_time))      \n"
   ]
  },
  {
   "cell_type": "code",
   "execution_count": null,
   "metadata": {},
   "outputs": [],
   "source": []
  },
  {
   "cell_type": "markdown",
   "metadata": {},
   "source": [
    "# Drone Count = 12"
   ]
  },
  {
   "cell_type": "code",
   "execution_count": 21,
   "metadata": {},
   "outputs": [
    {
     "name": "stdout",
     "output_type": "stream",
     "text": [
      "--- 18.61638855934143 seconds ---\n"
     ]
    }
   ],
   "source": [
    "drone_count=12\n",
    "start_time = time.time()\n",
    "\n",
    "list_temp_json = []\n",
    "\n",
    "df_results12 = DataFrame(columns=['uncer_dp', 'uncer_rec_go', 'sd_rec_go_pos', 'std_err_rec_go_pos'])\n",
    "ite = 0\n",
    "for noise_sd in arr_noise_sd:\n",
    "    list_goerror = []\n",
    "    ite +=1\n",
    "    for iterations in range(300):\n",
    "        list_temp_json.clear()\n",
    "        dp_real = fun_generate_drone_pos(drone_count)\n",
    "        dp_noise = addnoise_to_drone_pos(dp_real,sd=noise_sd)\n",
    "        list_orig_y = calc_timelags_noisedp(drone_count,dp_real, dp_noise)\n",
    "        list_temp_json.insert(0, list_orig_y)\n",
    "\n",
    "        result = least_squares(recover_GO_pos, xy_initial)\n",
    "        err_go = calc_recored_go_pos_err(x_original,result.x)\n",
    "\n",
    "        list_goerror.append(err_go)\n",
    "        \n",
    "    avg_err_go = np.mean(list_goerror)\n",
    "    sd_rec_calc_gopos = np.std(list_goerror) # sd of rec go obj pos\n",
    "    std_err_calc_gopos = sem(list_goerror)   # std dev of rec go obj pos = sd/sqrt(n-1)\n",
    "    df_results12.loc[ite-1] = [noise_sd, avg_err_go, sd_rec_calc_gopos,std_err_calc_gopos]\n",
    "\n",
    "print(\"--- %s seconds ---\" % (time.time() - start_time))      \n"
   ]
  },
  {
   "cell_type": "markdown",
   "metadata": {},
   "source": [
    "# Drone Count = 30"
   ]
  },
  {
   "cell_type": "code",
   "execution_count": null,
   "metadata": {},
   "outputs": [],
   "source": [
    "\n",
    "start_time = time.time()\n",
    "\n",
    "list_temp_json = []\n",
    "\n",
    "df_results30 = DataFrame(columns=['uncer_dp', 'uncer_rec_go', 'sd_rec_go_pos', 'std_err_rec_go_pos'])\n",
    "ite = 0\n",
    "for noise_sd in arr_noise_sd:\n",
    "    list_goerror = []\n",
    "    ite +=1\n",
    "    for iterations in range(300):\n",
    "        list_temp_json.clear()\n",
    "        dp_real = fun_generate_drone_pos(drone_count)\n",
    "        dp_noise = addnoise_to_drone_pos(dp_real,sd=noise_sd)\n",
    "        list_orig_y = calc_timelags_noisedp(drone_count,dp_real, dp_noise)\n",
    "        list_temp_json.insert(0, list_orig_y)\n",
    "\n",
    "        result = least_squares(recover_GO_pos, xy_initial)\n",
    "        err_go = calc_recored_go_pos_err(x_original,result.x)\n",
    "\n",
    "        list_goerror.append(err_go)\n",
    "        \n",
    "    avg_err_go = np.mean(list_goerror)\n",
    "    sd_rec_calc_gopos = np.std(list_goerror) # sd of rec go obj pos\n",
    "    std_err_calc_gopos = sem(list_goerror)   # std dev of rec go obj pos = sd/sqrt(n-1)\n",
    "    df_results30.loc[ite-1] = [noise_sd, avg_err_go, sd_rec_calc_gopos,std_err_calc_gopos]\n",
    "\n",
    "print(\"--- %s seconds ---\" % (time.time() - start_time))      \n"
   ]
  },
  {
   "cell_type": "markdown",
   "metadata": {},
   "source": [
    "# Print uncertanty in recovered object for each drone count"
   ]
  },
  {
   "cell_type": "code",
   "execution_count": 23,
   "metadata": {},
   "outputs": [
    {
     "data": {
      "text/html": [
       "<div>\n",
       "<style scoped>\n",
       "    .dataframe tbody tr th:only-of-type {\n",
       "        vertical-align: middle;\n",
       "    }\n",
       "\n",
       "    .dataframe tbody tr th {\n",
       "        vertical-align: top;\n",
       "    }\n",
       "\n",
       "    .dataframe thead th {\n",
       "        text-align: right;\n",
       "    }\n",
       "</style>\n",
       "<table border=\"1\" class=\"dataframe\">\n",
       "  <thead>\n",
       "    <tr style=\"text-align: right;\">\n",
       "      <th></th>\n",
       "      <th>uncer_dp</th>\n",
       "      <th>uncer_rec_go</th>\n",
       "      <th>sd_rec_go_pos</th>\n",
       "      <th>std_err_rec_go_pos</th>\n",
       "    </tr>\n",
       "  </thead>\n",
       "  <tbody>\n",
       "    <tr>\n",
       "      <th>0</th>\n",
       "      <td>0.5</td>\n",
       "      <td>1.303087</td>\n",
       "      <td>1.258398</td>\n",
       "      <td>0.072775</td>\n",
       "    </tr>\n",
       "  </tbody>\n",
       "</table>\n",
       "</div>"
      ],
      "text/plain": [
       "   uncer_dp  uncer_rec_go  sd_rec_go_pos  std_err_rec_go_pos\n",
       "0       0.5      1.303087       1.258398            0.072775"
      ]
     },
     "execution_count": 23,
     "metadata": {},
     "output_type": "execute_result"
    }
   ],
   "source": [
    "df_results3"
   ]
  },
  {
   "cell_type": "code",
   "execution_count": 27,
   "metadata": {},
   "outputs": [
    {
     "data": {
      "text/html": [
       "<div>\n",
       "<style scoped>\n",
       "    .dataframe tbody tr th:only-of-type {\n",
       "        vertical-align: middle;\n",
       "    }\n",
       "\n",
       "    .dataframe tbody tr th {\n",
       "        vertical-align: top;\n",
       "    }\n",
       "\n",
       "    .dataframe thead th {\n",
       "        text-align: right;\n",
       "    }\n",
       "</style>\n",
       "<table border=\"1\" class=\"dataframe\">\n",
       "  <thead>\n",
       "    <tr style=\"text-align: right;\">\n",
       "      <th></th>\n",
       "      <th>uncer_dp</th>\n",
       "      <th>uncer_rec_go</th>\n",
       "      <th>sd_rec_go_pos</th>\n",
       "      <th>std_err_rec_go_pos</th>\n",
       "    </tr>\n",
       "  </thead>\n",
       "  <tbody>\n",
       "    <tr>\n",
       "      <th>0</th>\n",
       "      <td>0.5</td>\n",
       "      <td>0.637295</td>\n",
       "      <td>0.679024</td>\n",
       "      <td>0.039269</td>\n",
       "    </tr>\n",
       "  </tbody>\n",
       "</table>\n",
       "</div>"
      ],
      "text/plain": [
       "   uncer_dp  uncer_rec_go  sd_rec_go_pos  std_err_rec_go_pos\n",
       "0       0.5      0.637295       0.679024            0.039269"
      ]
     },
     "execution_count": 27,
     "metadata": {},
     "output_type": "execute_result"
    }
   ],
   "source": [
    "df_results6"
   ]
  },
  {
   "cell_type": "code",
   "execution_count": 26,
   "metadata": {},
   "outputs": [
    {
     "data": {
      "text/html": [
       "<div>\n",
       "<style scoped>\n",
       "    .dataframe tbody tr th:only-of-type {\n",
       "        vertical-align: middle;\n",
       "    }\n",
       "\n",
       "    .dataframe tbody tr th {\n",
       "        vertical-align: top;\n",
       "    }\n",
       "\n",
       "    .dataframe thead th {\n",
       "        text-align: right;\n",
       "    }\n",
       "</style>\n",
       "<table border=\"1\" class=\"dataframe\">\n",
       "  <thead>\n",
       "    <tr style=\"text-align: right;\">\n",
       "      <th></th>\n",
       "      <th>uncer_dp</th>\n",
       "      <th>uncer_rec_go</th>\n",
       "      <th>sd_rec_go_pos</th>\n",
       "      <th>std_err_rec_go_pos</th>\n",
       "    </tr>\n",
       "  </thead>\n",
       "  <tbody>\n",
       "    <tr>\n",
       "      <th>0</th>\n",
       "      <td>0.5</td>\n",
       "      <td>0.497038</td>\n",
       "      <td>0.30176</td>\n",
       "      <td>0.017451</td>\n",
       "    </tr>\n",
       "  </tbody>\n",
       "</table>\n",
       "</div>"
      ],
      "text/plain": [
       "   uncer_dp  uncer_rec_go  sd_rec_go_pos  std_err_rec_go_pos\n",
       "0       0.5      0.497038        0.30176            0.017451"
      ]
     },
     "execution_count": 26,
     "metadata": {},
     "output_type": "execute_result"
    }
   ],
   "source": [
    "df_results9"
   ]
  },
  {
   "cell_type": "code",
   "execution_count": 25,
   "metadata": {},
   "outputs": [
    {
     "data": {
      "text/html": [
       "<div>\n",
       "<style scoped>\n",
       "    .dataframe tbody tr th:only-of-type {\n",
       "        vertical-align: middle;\n",
       "    }\n",
       "\n",
       "    .dataframe tbody tr th {\n",
       "        vertical-align: top;\n",
       "    }\n",
       "\n",
       "    .dataframe thead th {\n",
       "        text-align: right;\n",
       "    }\n",
       "</style>\n",
       "<table border=\"1\" class=\"dataframe\">\n",
       "  <thead>\n",
       "    <tr style=\"text-align: right;\">\n",
       "      <th></th>\n",
       "      <th>uncer_dp</th>\n",
       "      <th>uncer_rec_go</th>\n",
       "      <th>sd_rec_go_pos</th>\n",
       "      <th>std_err_rec_go_pos</th>\n",
       "    </tr>\n",
       "  </thead>\n",
       "  <tbody>\n",
       "    <tr>\n",
       "      <th>0</th>\n",
       "      <td>0.5</td>\n",
       "      <td>0.41321</td>\n",
       "      <td>0.227536</td>\n",
       "      <td>0.013159</td>\n",
       "    </tr>\n",
       "  </tbody>\n",
       "</table>\n",
       "</div>"
      ],
      "text/plain": [
       "   uncer_dp  uncer_rec_go  sd_rec_go_pos  std_err_rec_go_pos\n",
       "0       0.5       0.41321       0.227536            0.013159"
      ]
     },
     "execution_count": 25,
     "metadata": {},
     "output_type": "execute_result"
    }
   ],
   "source": [
    "df_results12"
   ]
  },
  {
   "cell_type": "code",
   "execution_count": 24,
   "metadata": {},
   "outputs": [
    {
     "data": {
      "text/html": [
       "<div>\n",
       "<style scoped>\n",
       "    .dataframe tbody tr th:only-of-type {\n",
       "        vertical-align: middle;\n",
       "    }\n",
       "\n",
       "    .dataframe tbody tr th {\n",
       "        vertical-align: top;\n",
       "    }\n",
       "\n",
       "    .dataframe thead th {\n",
       "        text-align: right;\n",
       "    }\n",
       "</style>\n",
       "<table border=\"1\" class=\"dataframe\">\n",
       "  <thead>\n",
       "    <tr style=\"text-align: right;\">\n",
       "      <th></th>\n",
       "      <th>uncer_dp</th>\n",
       "      <th>uncer_rec_go</th>\n",
       "      <th>sd_rec_go_pos</th>\n",
       "      <th>std_err_rec_go_pos</th>\n",
       "    </tr>\n",
       "  </thead>\n",
       "  <tbody>\n",
       "    <tr>\n",
       "      <th>0</th>\n",
       "      <td>0.5</td>\n",
       "      <td>0.260564</td>\n",
       "      <td>0.142134</td>\n",
       "      <td>0.00822</td>\n",
       "    </tr>\n",
       "  </tbody>\n",
       "</table>\n",
       "</div>"
      ],
      "text/plain": [
       "   uncer_dp  uncer_rec_go  sd_rec_go_pos  std_err_rec_go_pos\n",
       "0       0.5      0.260564       0.142134             0.00822"
      ]
     },
     "execution_count": 24,
     "metadata": {},
     "output_type": "execute_result"
    }
   ],
   "source": [
    "df_results30"
   ]
  },
  {
   "cell_type": "code",
   "execution_count": null,
   "metadata": {},
   "outputs": [],
   "source": []
  }
 ],
 "metadata": {
  "kernelspec": {
   "display_name": "Python 3",
   "language": "python",
   "name": "python3"
  },
  "language_info": {
   "codemirror_mode": {
    "name": "ipython",
    "version": 3
   },
   "file_extension": ".py",
   "mimetype": "text/x-python",
   "name": "python",
   "nbconvert_exporter": "python",
   "pygments_lexer": "ipython3",
   "version": "3.8.5"
  }
 },
 "nbformat": 4,
 "nbformat_minor": 4
}
